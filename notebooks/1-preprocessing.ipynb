{
 "cells": [
  {
   "cell_type": "markdown",
   "metadata": {},
   "source": [
    "# LLM PROJECT - Preprocessing<p>\n",
    "### Loading and EDA\n",
    "First off, load in the data. I am doing the topic modeling task, so I need the `SetFit/20_newsgroups` dataset."
   ]
  },
  {
   "cell_type": "code",
   "execution_count": 9,
   "metadata": {},
   "outputs": [],
   "source": [
    "from datasets import load_dataset"
   ]
  },
  {
   "cell_type": "code",
   "execution_count": 11,
   "metadata": {},
   "outputs": [
    {
     "data": {
      "application/vnd.jupyter.widget-view+json": {
       "model_id": "ca7dbba7cc8549799691c2710a6bf850",
       "version_major": 2,
       "version_minor": 0
      },
      "text/plain": [
       "README.md:   0%|          | 0.00/734 [00:00<?, ?B/s]"
      ]
     },
     "metadata": {},
     "output_type": "display_data"
    },
    {
     "name": "stderr",
     "output_type": "stream",
     "text": [
      "c:\\Users\\mebar\\anaconda3\\Lib\\site-packages\\huggingface_hub\\file_download.py:139: UserWarning: `huggingface_hub` cache-system uses symlinks by default to efficiently store duplicated files but your machine does not support them in C:\\Users\\mebar\\.cache\\huggingface\\hub\\datasets--SetFit--20_newsgroups. Caching files will still work but in a degraded version that might require more space on your disk. This warning can be disabled by setting the `HF_HUB_DISABLE_SYMLINKS_WARNING` environment variable. For more details, see https://huggingface.co/docs/huggingface_hub/how-to-cache#limitations.\n",
      "To support symlinks on Windows, you either need to activate Developer Mode or to run Python as an administrator. In order to activate developer mode, see this article: https://docs.microsoft.com/en-us/windows/apps/get-started/enable-your-device-for-development\n",
      "  warnings.warn(message)\n",
      "Repo card metadata block was not found. Setting CardData to empty.\n"
     ]
    },
    {
     "data": {
      "application/vnd.jupyter.widget-view+json": {
       "model_id": "308bbfb9dc0547c584c674a330a30758",
       "version_major": 2,
       "version_minor": 0
      },
      "text/plain": [
       "train.jsonl:   0%|          | 0.00/14.8M [00:00<?, ?B/s]"
      ]
     },
     "metadata": {},
     "output_type": "display_data"
    },
    {
     "data": {
      "application/vnd.jupyter.widget-view+json": {
       "model_id": "26376630ab824e84ab5da0693520a15d",
       "version_major": 2,
       "version_minor": 0
      },
      "text/plain": [
       "test.jsonl:   0%|          | 0.00/8.91M [00:00<?, ?B/s]"
      ]
     },
     "metadata": {},
     "output_type": "display_data"
    },
    {
     "data": {
      "application/vnd.jupyter.widget-view+json": {
       "model_id": "79c67a4879e845a4ba58224a36525d12",
       "version_major": 2,
       "version_minor": 0
      },
      "text/plain": [
       "Generating train split:   0%|          | 0/11314 [00:00<?, ? examples/s]"
      ]
     },
     "metadata": {},
     "output_type": "display_data"
    },
    {
     "data": {
      "application/vnd.jupyter.widget-view+json": {
       "model_id": "3418675f5f4c4bab91e193fce08e41ee",
       "version_major": 2,
       "version_minor": 0
      },
      "text/plain": [
       "Generating test split:   0%|          | 0/7532 [00:00<?, ? examples/s]"
      ]
     },
     "metadata": {},
     "output_type": "display_data"
    }
   ],
   "source": [
    "ds = load_dataset('SetFit/20_newsgroups')"
   ]
  },
  {
   "cell_type": "code",
   "execution_count": 12,
   "metadata": {},
   "outputs": [
    {
     "data": {
      "text/plain": [
       "DatasetDict({\n",
       "    train: Dataset({\n",
       "        features: ['text', 'label', 'label_text'],\n",
       "        num_rows: 11314\n",
       "    })\n",
       "    test: Dataset({\n",
       "        features: ['text', 'label', 'label_text'],\n",
       "        num_rows: 7532\n",
       "    })\n",
       "})"
      ]
     },
     "execution_count": 12,
     "metadata": {},
     "output_type": "execute_result"
    }
   ],
   "source": [
    "ds"
   ]
  },
  {
   "cell_type": "markdown",
   "metadata": {},
   "source": [
    "There are two datasets withing the dictionary; a training set and a test set."
   ]
  },
  {
   "cell_type": "code",
   "execution_count": 13,
   "metadata": {},
   "outputs": [
    {
     "data": {
      "text/plain": [
       "{'text': Value(dtype='string', id=None),\n",
       " 'label': Value(dtype='int64', id=None),\n",
       " 'label_text': Value(dtype='string', id=None)}"
      ]
     },
     "execution_count": 13,
     "metadata": {},
     "output_type": "execute_result"
    }
   ],
   "source": [
    "ds['train'].features"
   ]
  },
  {
   "cell_type": "code",
   "execution_count": 14,
   "metadata": {},
   "outputs": [
    {
     "data": {
      "text/plain": [
       "{'text': 'I was wondering if anyone out there could enlighten me on this car I saw\\nthe other day. It was a 2-door sports car, looked to be from the late 60s/\\nearly 70s. It was called a Bricklin. The doors were really small. In addition,\\nthe front bumper was separate from the rest of the body. This is \\nall I know. If anyone can tellme a model name, engine specs, years\\nof production, where this car is made, history, or whatever info you\\nhave on this funky looking car, please e-mail.',\n",
       " 'label': 7,\n",
       " 'label_text': 'rec.autos'}"
      ]
     },
     "execution_count": 14,
     "metadata": {},
     "output_type": "execute_result"
    }
   ],
   "source": [
    "ds['train'][0]"
   ]
  },
  {
   "cell_type": "code",
   "execution_count": 15,
   "metadata": {},
   "outputs": [
    {
     "data": {
      "text/plain": [
       "{'text': Value(dtype='string', id=None),\n",
       " 'label': Value(dtype='int64', id=None),\n",
       " 'label_text': Value(dtype='string', id=None)}"
      ]
     },
     "execution_count": 15,
     "metadata": {},
     "output_type": "execute_result"
    }
   ],
   "source": [
    "ds['test'].features"
   ]
  },
  {
   "cell_type": "code",
   "execution_count": 16,
   "metadata": {},
   "outputs": [
    {
     "data": {
      "text/plain": [
       "{'text': 'I am a little confused on all of the models of the 88-89 bonnevilles.\\nI have heard of the LE SE LSE SSE SSEI. Could someone tell me the\\ndifferences are far as features or performance. I am also curious to\\nknow what the book value is for prefereably the 89 model. And how much\\nless than book value can you usually get them for. In other words how\\nmuch are they in demand this time of year. I have heard that the mid-spring\\nearly summer is the best time to buy.',\n",
       " 'label': 7,\n",
       " 'label_text': 'rec.autos'}"
      ]
     },
     "execution_count": 16,
     "metadata": {},
     "output_type": "execute_result"
    }
   ],
   "source": [
    "ds['test'][0]"
   ]
  },
  {
   "cell_type": "markdown",
   "metadata": {},
   "source": [
    "Rows consist of the text, the category number and the categroy label."
   ]
  },
  {
   "cell_type": "code",
   "execution_count": 17,
   "metadata": {},
   "outputs": [],
   "source": [
    "import pandas as pd\n",
    "ds_train = pd.DataFrame(ds['train'])\n",
    "ds_test = pd.DataFrame(ds['test'])"
   ]
  },
  {
   "cell_type": "code",
   "execution_count": 18,
   "metadata": {},
   "outputs": [
    {
     "name": "stdout",
     "output_type": "stream",
     "text": [
      "train: (11314, 3)\n",
      "test: (7532, 3)\n"
     ]
    }
   ],
   "source": [
    "print('train:',ds_train.shape)\n",
    "print('test:',ds_test.shape)"
   ]
  },
  {
   "cell_type": "code",
   "execution_count": 19,
   "metadata": {},
   "outputs": [
    {
     "data": {
      "text/html": [
       "<div>\n",
       "<style scoped>\n",
       "    .dataframe tbody tr th:only-of-type {\n",
       "        vertical-align: middle;\n",
       "    }\n",
       "\n",
       "    .dataframe tbody tr th {\n",
       "        vertical-align: top;\n",
       "    }\n",
       "\n",
       "    .dataframe thead th {\n",
       "        text-align: right;\n",
       "    }\n",
       "</style>\n",
       "<table border=\"1\" class=\"dataframe\">\n",
       "  <thead>\n",
       "    <tr style=\"text-align: right;\">\n",
       "      <th></th>\n",
       "      <th>text</th>\n",
       "      <th>label</th>\n",
       "      <th>label_text</th>\n",
       "    </tr>\n",
       "  </thead>\n",
       "  <tbody>\n",
       "    <tr>\n",
       "      <th>0</th>\n",
       "      <td>I was wondering if anyone out there could enli...</td>\n",
       "      <td>7</td>\n",
       "      <td>rec.autos</td>\n",
       "    </tr>\n",
       "    <tr>\n",
       "      <th>1</th>\n",
       "      <td>A fair number of brave souls who upgraded thei...</td>\n",
       "      <td>4</td>\n",
       "      <td>comp.sys.mac.hardware</td>\n",
       "    </tr>\n",
       "    <tr>\n",
       "      <th>2</th>\n",
       "      <td>well folks, my mac plus finally gave up the gh...</td>\n",
       "      <td>4</td>\n",
       "      <td>comp.sys.mac.hardware</td>\n",
       "    </tr>\n",
       "  </tbody>\n",
       "</table>\n",
       "</div>"
      ],
      "text/plain": [
       "                                                text  label  \\\n",
       "0  I was wondering if anyone out there could enli...      7   \n",
       "1  A fair number of brave souls who upgraded thei...      4   \n",
       "2  well folks, my mac plus finally gave up the gh...      4   \n",
       "\n",
       "              label_text  \n",
       "0              rec.autos  \n",
       "1  comp.sys.mac.hardware  \n",
       "2  comp.sys.mac.hardware  "
      ]
     },
     "metadata": {},
     "output_type": "display_data"
    },
    {
     "data": {
      "text/html": [
       "<div>\n",
       "<style scoped>\n",
       "    .dataframe tbody tr th:only-of-type {\n",
       "        vertical-align: middle;\n",
       "    }\n",
       "\n",
       "    .dataframe tbody tr th {\n",
       "        vertical-align: top;\n",
       "    }\n",
       "\n",
       "    .dataframe thead th {\n",
       "        text-align: right;\n",
       "    }\n",
       "</style>\n",
       "<table border=\"1\" class=\"dataframe\">\n",
       "  <thead>\n",
       "    <tr style=\"text-align: right;\">\n",
       "      <th></th>\n",
       "      <th>text</th>\n",
       "      <th>label</th>\n",
       "      <th>label_text</th>\n",
       "    </tr>\n",
       "  </thead>\n",
       "  <tbody>\n",
       "    <tr>\n",
       "      <th>0</th>\n",
       "      <td>I am a little confused on all of the models of...</td>\n",
       "      <td>7</td>\n",
       "      <td>rec.autos</td>\n",
       "    </tr>\n",
       "    <tr>\n",
       "      <th>1</th>\n",
       "      <td>I'm not familiar at all with the format of the...</td>\n",
       "      <td>5</td>\n",
       "      <td>comp.windows.x</td>\n",
       "    </tr>\n",
       "    <tr>\n",
       "      <th>2</th>\n",
       "      <td>\\nIn a word, yes.\\n</td>\n",
       "      <td>0</td>\n",
       "      <td>alt.atheism</td>\n",
       "    </tr>\n",
       "  </tbody>\n",
       "</table>\n",
       "</div>"
      ],
      "text/plain": [
       "                                                text  label      label_text\n",
       "0  I am a little confused on all of the models of...      7       rec.autos\n",
       "1  I'm not familiar at all with the format of the...      5  comp.windows.x\n",
       "2                                \\nIn a word, yes.\\n      0     alt.atheism"
      ]
     },
     "metadata": {},
     "output_type": "display_data"
    }
   ],
   "source": [
    "display(ds_train.head(3))\n",
    "display(ds_test.head(3))"
   ]
  },
  {
   "cell_type": "markdown",
   "metadata": {},
   "source": [
    "Having a look at what labels are in each set to make sure they are all present in both (which they should be, seeing as there are almost 20k samples) -"
   ]
  },
  {
   "cell_type": "code",
   "execution_count": 20,
   "metadata": {},
   "outputs": [
    {
     "data": {
      "text/plain": [
       "label  label_text              \n",
       "0      alt.atheism                 480\n",
       "1      comp.graphics               584\n",
       "2      comp.os.ms-windows.misc     591\n",
       "3      comp.sys.ibm.pc.hardware    590\n",
       "4      comp.sys.mac.hardware       578\n",
       "5      comp.windows.x              593\n",
       "6      misc.forsale                585\n",
       "7      rec.autos                   594\n",
       "8      rec.motorcycles             598\n",
       "9      rec.sport.baseball          597\n",
       "10     rec.sport.hockey            600\n",
       "11     sci.crypt                   595\n",
       "12     sci.electronics             591\n",
       "13     sci.med                     594\n",
       "14     sci.space                   593\n",
       "15     soc.religion.christian      599\n",
       "16     talk.politics.guns          546\n",
       "17     talk.politics.mideast       564\n",
       "18     talk.politics.misc          465\n",
       "19     talk.religion.misc          377\n",
       "Name: count, dtype: int64"
      ]
     },
     "metadata": {},
     "output_type": "display_data"
    },
    {
     "data": {
      "text/plain": [
       "label  label_text              \n",
       "0      alt.atheism                 319\n",
       "1      comp.graphics               389\n",
       "2      comp.os.ms-windows.misc     394\n",
       "3      comp.sys.ibm.pc.hardware    392\n",
       "4      comp.sys.mac.hardware       385\n",
       "5      comp.windows.x              395\n",
       "6      misc.forsale                390\n",
       "7      rec.autos                   396\n",
       "8      rec.motorcycles             398\n",
       "9      rec.sport.baseball          397\n",
       "10     rec.sport.hockey            399\n",
       "11     sci.crypt                   396\n",
       "12     sci.electronics             393\n",
       "13     sci.med                     396\n",
       "14     sci.space                   394\n",
       "15     soc.religion.christian      398\n",
       "16     talk.politics.guns          364\n",
       "17     talk.politics.mideast       376\n",
       "18     talk.politics.misc          310\n",
       "19     talk.religion.misc          251\n",
       "Name: count, dtype: int64"
      ]
     },
     "metadata": {},
     "output_type": "display_data"
    }
   ],
   "source": [
    "display(ds_train[['label','label_text']].value_counts().sort_index())\n",
    "display(ds_test[['label','label_text']].value_counts().sort_index())"
   ]
  },
  {
   "cell_type": "markdown",
   "metadata": {},
   "source": [
    "All 20 categories are present in each set, but that is too many labels for building a simple classifier; too complex for the time and for my ability. But each label starts off with a broader categeory before breaking down into more granular ones, so I am going to use that to reduce the number of categories down to 7, like so:<ul>\n",
    "- alt\n",
    "- comp\n",
    "- misc\n",
    "- rec\n",
    "- sci\n",
    "- soc\n",
    "- talk"
   ]
  },
  {
   "cell_type": "code",
   "execution_count": 21,
   "metadata": {},
   "outputs": [],
   "source": [
    "# mapping label_text column to values for new column\n",
    "topic_map = {'alt.atheism': 0,\n",
    "\n",
    "'comp.graphics': 1,\n",
    "'comp.os.ms-windows.misc': 1,\n",
    "'comp.sys.ibm.pc.hardware': 1,\n",
    "'comp.sys.mac.hardware': 1,\n",
    "'comp.windows.x': 1,\n",
    "\n",
    "'misc.forsale': 2,\n",
    "\n",
    "'rec.autos': 3,\n",
    "'rec.motorcycles': 3,\n",
    "'rec.sport.baseball': 3,\n",
    "'rec.sport.hockey': 3,\n",
    "\n",
    "'sci.crypt': 4,\n",
    "'sci.electronics': 4,\n",
    "'sci.med': 4,\n",
    "'sci.space': 4,\n",
    "\n",
    "'soc.religion.christian': 5,\n",
    "\n",
    "'talk.politics.guns': 6,\n",
    "'talk.politics.mideast': 6,\n",
    "'talk.politics.misc': 6,\n",
    "'talk.religion.misc': 6}"
   ]
  },
  {
   "cell_type": "code",
   "execution_count": 22,
   "metadata": {},
   "outputs": [],
   "source": [
    "# creating new column 'simple_topic' based on mapping\n",
    "ds_train['simple_topic'] = ds_train['label_text'].map(topic_map)\n",
    "ds_test['simple_topic'] = ds_test['label_text'].map(topic_map)"
   ]
  },
  {
   "cell_type": "code",
   "execution_count": 23,
   "metadata": {},
   "outputs": [
    {
     "data": {
      "text/html": [
       "<div>\n",
       "<style scoped>\n",
       "    .dataframe tbody tr th:only-of-type {\n",
       "        vertical-align: middle;\n",
       "    }\n",
       "\n",
       "    .dataframe tbody tr th {\n",
       "        vertical-align: top;\n",
       "    }\n",
       "\n",
       "    .dataframe thead th {\n",
       "        text-align: right;\n",
       "    }\n",
       "</style>\n",
       "<table border=\"1\" class=\"dataframe\">\n",
       "  <thead>\n",
       "    <tr style=\"text-align: right;\">\n",
       "      <th></th>\n",
       "      <th>text</th>\n",
       "      <th>label</th>\n",
       "      <th>label_text</th>\n",
       "      <th>simple_topic</th>\n",
       "    </tr>\n",
       "  </thead>\n",
       "  <tbody>\n",
       "    <tr>\n",
       "      <th>0</th>\n",
       "      <td>I was wondering if anyone out there could enli...</td>\n",
       "      <td>7</td>\n",
       "      <td>rec.autos</td>\n",
       "      <td>3</td>\n",
       "    </tr>\n",
       "    <tr>\n",
       "      <th>1</th>\n",
       "      <td>A fair number of brave souls who upgraded thei...</td>\n",
       "      <td>4</td>\n",
       "      <td>comp.sys.mac.hardware</td>\n",
       "      <td>1</td>\n",
       "    </tr>\n",
       "  </tbody>\n",
       "</table>\n",
       "</div>"
      ],
      "text/plain": [
       "                                                text  label  \\\n",
       "0  I was wondering if anyone out there could enli...      7   \n",
       "1  A fair number of brave souls who upgraded thei...      4   \n",
       "\n",
       "              label_text  simple_topic  \n",
       "0              rec.autos             3  \n",
       "1  comp.sys.mac.hardware             1  "
      ]
     },
     "metadata": {},
     "output_type": "display_data"
    },
    {
     "data": {
      "text/html": [
       "<div>\n",
       "<style scoped>\n",
       "    .dataframe tbody tr th:only-of-type {\n",
       "        vertical-align: middle;\n",
       "    }\n",
       "\n",
       "    .dataframe tbody tr th {\n",
       "        vertical-align: top;\n",
       "    }\n",
       "\n",
       "    .dataframe thead th {\n",
       "        text-align: right;\n",
       "    }\n",
       "</style>\n",
       "<table border=\"1\" class=\"dataframe\">\n",
       "  <thead>\n",
       "    <tr style=\"text-align: right;\">\n",
       "      <th></th>\n",
       "      <th>text</th>\n",
       "      <th>label</th>\n",
       "      <th>label_text</th>\n",
       "      <th>simple_topic</th>\n",
       "    </tr>\n",
       "  </thead>\n",
       "  <tbody>\n",
       "    <tr>\n",
       "      <th>0</th>\n",
       "      <td>I am a little confused on all of the models of...</td>\n",
       "      <td>7</td>\n",
       "      <td>rec.autos</td>\n",
       "      <td>3</td>\n",
       "    </tr>\n",
       "    <tr>\n",
       "      <th>1</th>\n",
       "      <td>I'm not familiar at all with the format of the...</td>\n",
       "      <td>5</td>\n",
       "      <td>comp.windows.x</td>\n",
       "      <td>1</td>\n",
       "    </tr>\n",
       "  </tbody>\n",
       "</table>\n",
       "</div>"
      ],
      "text/plain": [
       "                                                text  label      label_text  \\\n",
       "0  I am a little confused on all of the models of...      7       rec.autos   \n",
       "1  I'm not familiar at all with the format of the...      5  comp.windows.x   \n",
       "\n",
       "   simple_topic  \n",
       "0             3  \n",
       "1             1  "
      ]
     },
     "metadata": {},
     "output_type": "display_data"
    }
   ],
   "source": [
    "# show heads of tables\n",
    "display(ds_train.head(2))\n",
    "display(ds_test.head(2))"
   ]
  },
  {
   "cell_type": "code",
   "execution_count": 24,
   "metadata": {},
   "outputs": [],
   "source": [
    "import matplotlib.pyplot as plt\n",
    "import numpy as np"
   ]
  },
  {
   "cell_type": "code",
   "execution_count": 25,
   "metadata": {},
   "outputs": [
    {
     "data": {
      "text/plain": [
       "([<matplotlib.axis.YTick at 0x2167897b680>,\n",
       "  <matplotlib.axis.YTick at 0x2167897aa50>,\n",
       "  <matplotlib.axis.YTick at 0x2167897a540>,\n",
       "  <matplotlib.axis.YTick at 0x2167b49a870>,\n",
       "  <matplotlib.axis.YTick at 0x2167b49b200>,\n",
       "  <matplotlib.axis.YTick at 0x2167b49bbc0>,\n",
       "  <matplotlib.axis.YTick at 0x2167b4b0500>],\n",
       " [Text(0, 0, '0'),\n",
       "  Text(0, 100, '100'),\n",
       "  Text(0, 200, '200'),\n",
       "  Text(0, 300, '300'),\n",
       "  Text(0, 400, '400'),\n",
       "  Text(0, 500, '500'),\n",
       "  Text(0, 600, '600')])"
      ]
     },
     "execution_count": 25,
     "metadata": {},
     "output_type": "execute_result"
    },
    {
     "data": {
      "image/png": "[encoded data removed]",
      "text/plain": [
       "<Figure size 1500x500 with 2 Axes>"
      ]
     },
     "metadata": {},
     "output_type": "display_data"
    }
   ],
   "source": [
    "plt.figure(figsize=(15,5))\n",
    "plt.subplot(1,2,1)\n",
    "plt.hist(ds_train['label'],bins=20)\n",
    "plt.title('topics in train set')\n",
    "plt.xticks(np.arange(0,20,2))\n",
    "plt.yticks(np.arange(0,650,100))\n",
    "\n",
    "plt.subplot(1,2,2)\n",
    "plt.hist(ds_test['label'],bins=20)\n",
    "plt.title('topics in test set')\n",
    "plt.xticks(np.arange(0,20,2))\n",
    "plt.yticks(np.arange(0,650,100))\n"
   ]
  },
  {
   "cell_type": "code",
   "execution_count": 32,
   "metadata": {},
   "outputs": [
    {
     "data": {
      "text/plain": [
       "([<matplotlib.axis.YTick at 0x2167c90b800>,\n",
       "  <matplotlib.axis.YTick at 0x2167c90b290>,\n",
       "  <matplotlib.axis.YTick at 0x2167c34aae0>,\n",
       "  <matplotlib.axis.YTick at 0x2167c923ad0>,\n",
       "  <matplotlib.axis.YTick at 0x2167c958470>,\n",
       "  <matplotlib.axis.YTick at 0x2167c958e30>,\n",
       "  <matplotlib.axis.YTick at 0x2167c9597f0>],\n",
       " [Text(0, 0, '0'),\n",
       "  Text(0, 500, '500'),\n",
       "  Text(0, 1000, '1000'),\n",
       "  Text(0, 1500, '1500'),\n",
       "  Text(0, 2000, '2000'),\n",
       "  Text(0, 2500, '2500'),\n",
       "  Text(0, 3000, '3000')])"
      ]
     },
     "execution_count": 32,
     "metadata": {},
     "output_type": "execute_result"
    },
    {
     "data": {
      "image/png": "[encoded data removed]",
      "text/plain": [
       "<Figure size 1500x500 with 2 Axes>"
      ]
     },
     "metadata": {},
     "output_type": "display_data"
    }
   ],
   "source": [
    "plt.figure(figsize=(15,5))\n",
    "plt.subplot(1,2,1)\n",
    "plt.hist(ds_train['simple_topic'],bins=7)\n",
    "plt.title('simplified topics in train set')\n",
    "plt.yticks(np.arange(0,3200,500))\n",
    "\n",
    "plt.subplot(1,2,2)\n",
    "plt.hist(ds_test['simple_topic'],bins=7)\n",
    "plt.title('simplified topics in test set')\n",
    "plt.yticks(np.arange(0,3200,500))"
   ]
  },
  {
   "cell_type": "markdown",
   "metadata": {},
   "source": [
    "Changing how the topics are grouped messed up the uniformity of the distribution, which makes sense as not every broad category had the same number of sub-categories to feed into it. This could present a problem with those categories being under selected by model prediction after training. "
   ]
  },
  {
   "cell_type": "markdown",
   "metadata": {},
   "source": [
    "### Preprocessing proper<p>\n",
    "There are several things that need to be removed from the text entries to make them easier to process. All of this will be done in a new column, so that the original text is still accessible for reference. "
   ]
  },
  {
   "cell_type": "code",
   "execution_count": 33,
   "metadata": {},
   "outputs": [],
   "source": [
    "# create new column, remove newlines\n",
    "ds_train['preprocess'] = ds_train['text'].str.replace('\\n',' ')\n",
    "ds_test['preprocess'] = ds_test['text'].str.replace('\\n',' ')"
   ]
  },
  {
   "cell_type": "code",
   "execution_count": 34,
   "metadata": {},
   "outputs": [],
   "source": [
    "# remove HTML tags\n",
    "import re\n",
    "\n",
    "def remove_html(text):\n",
    "    clean_text = re.sub('<.*?>', '', text)\n",
    "    return clean_text\n",
    "\n",
    "\n",
    "ds_train['preprocess'] = ds_train['preprocess'].apply(lambda x: remove_html(x))\n",
    "ds_test['preprocess'] = ds_test['preprocess'].apply(lambda x: remove_html(x))"
   ]
  },
  {
   "cell_type": "code",
   "execution_count": 35,
   "metadata": {},
   "outputs": [],
   "source": [
    "# remove URLs\n",
    "def remove_urls(text):\n",
    "    clean_text = re.sub(r'http\\S+|www\\S+|https\\S+', '', text)\n",
    "    return clean_text\n",
    "\n",
    "\n",
    "ds_train['preprocess'] = ds_train['preprocess'].apply(lambda x: remove_urls(x))\n",
    "ds_test['preprocess'] = ds_test['preprocess'].apply(lambda x: remove_urls(x))"
   ]
  },
  {
   "cell_type": "code",
   "execution_count": 36,
   "metadata": {},
   "outputs": [],
   "source": [
    "# remove emails\n",
    "def remove_emails(text):\n",
    "    email_pattern = r'\\b[A-Za-z0-9._%+-]+@[A-Za-z0-9.-]+\\.[A-Za-z]{2,}\\b'\n",
    "    cleaned_text = re.sub(email_pattern, '', text)\n",
    "    return cleaned_text\n",
    "\n",
    "\n",
    "ds_train['preprocess'] = ds_train['preprocess'].apply(lambda x: remove_emails(x))\n",
    "ds_test['preprocess'] = ds_test['preprocess'].apply(lambda x: remove_emails(x))"
   ]
  },
  {
   "cell_type": "code",
   "execution_count": 37,
   "metadata": {},
   "outputs": [],
   "source": [
    "# remove punctuation\n",
    "import string\n",
    "\n",
    "def remove_punctuation(text):\n",
    "  cleaned_text = text.translate(str.maketrans(\"\", \"\", string.punctuation))\n",
    "  return cleaned_text\n",
    "\n",
    "\n",
    "ds_train['preprocess'] = ds_train['preprocess'].apply(lambda x: remove_punctuation(x))\n",
    "ds_test['preprocess'] = ds_test['preprocess'].apply(lambda x: remove_punctuation(x))"
   ]
  },
  {
   "cell_type": "code",
   "execution_count": 38,
   "metadata": {},
   "outputs": [],
   "source": [
    "# convert to lowercase\n",
    "ds_train['preprocess'] = ds_train['preprocess'].str.lower()\n",
    "ds_test['preprocess'] = ds_test['preprocess'].str.lower()"
   ]
  },
  {
   "cell_type": "markdown",
   "metadata": {},
   "source": [
    "I want to see how much of a difference there is between keeping stopwords and dropping them, at least for the basic SKLearn model, so I am going to create another column now for that process. "
   ]
  },
  {
   "cell_type": "code",
   "execution_count": 39,
   "metadata": {},
   "outputs": [
    {
     "name": "stderr",
     "output_type": "stream",
     "text": [
      "[nltk_data] Downloading package stopwords to\n",
      "[nltk_data]     C:\\Users\\mebar\\AppData\\Roaming\\nltk_data...\n",
      "[nltk_data]   Package stopwords is already up-to-date!\n",
      "[nltk_data] Downloading package punkt_tab to\n",
      "[nltk_data]     C:\\Users\\mebar\\AppData\\Roaming\\nltk_data...\n",
      "[nltk_data]   Package punkt_tab is already up-to-date!\n"
     ]
    },
    {
     "data": {
      "text/plain": [
       "True"
      ]
     },
     "execution_count": 39,
     "metadata": {},
     "output_type": "execute_result"
    }
   ],
   "source": [
    "import nltk\n",
    "from nltk.corpus import stopwords\n",
    "from nltk.tokenize import word_tokenize\n",
    "nltk.download('stopwords')\n",
    "nltk.download('punkt_tab')"
   ]
  },
  {
   "cell_type": "code",
   "execution_count": 40,
   "metadata": {},
   "outputs": [],
   "source": [
    "# create new column, drop stopwords\n",
    "def remove_stopwords(text):\n",
    "    stop_words = set(stopwords.words('english'))\n",
    "    tokens = word_tokenize(text)\n",
    "    filtered_text = [word for word in tokens if word.lower() not in stop_words]\n",
    "    return ' '.join(filtered_text)\n",
    "\n",
    "\n",
    "ds_train['no_stopword'] = ds_train['preprocess'].apply(lambda x: remove_stopwords(x))\n",
    "ds_test['no_stopword'] = ds_test['preprocess'].apply(lambda x: remove_stopwords(x))"
   ]
  },
  {
   "cell_type": "markdown",
   "metadata": {},
   "source": [
    "To compare the differences, below are outputs from an entry which required a lot of processing at each step; unprocessed, containing stopwords, and without stopwords."
   ]
  },
  {
   "cell_type": "code",
   "execution_count": 43,
   "metadata": {},
   "outputs": [
    {
     "data": {
      "text/plain": [
       "\"From article <C5owCB.n3p@world.std.com>, by tombaker@world.std.com (Tom A Baker):\\n\\n\\nMy understanding is that the 'expected errors' are basically\\nknown bugs in the warning system software - things are checked\\nthat don't have the right values in yet because they aren't\\nset till after launch, and suchlike. Rather than fix the code\\nand possibly introduce new bugs, they just tell the crew\\n'ok, if you see a warning no. 213 before liftoff, ignore it'.\""
      ]
     },
     "execution_count": 43,
     "metadata": {},
     "output_type": "execute_result"
    }
   ],
   "source": [
    "ds_train['text'][4]"
   ]
  },
  {
   "cell_type": "code",
   "execution_count": 42,
   "metadata": {},
   "outputs": [
    {
     "data": {
      "text/plain": [
       "'from article  by  tom a baker   my understanding is that the expected errors are basically known bugs in the warning system software  things are checked that dont have the right values in yet because they arent set till after launch and suchlike rather than fix the code and possibly introduce new bugs they just tell the crew ok if you see a warning no 213 before liftoff ignore it'"
      ]
     },
     "execution_count": 42,
     "metadata": {},
     "output_type": "execute_result"
    }
   ],
   "source": [
    "ds_train['preprocess'][4]"
   ]
  },
  {
   "cell_type": "code",
   "execution_count": 41,
   "metadata": {},
   "outputs": [
    {
     "data": {
      "text/plain": [
       "'article tom baker understanding expected errors basically known bugs warning system software things checked dont right values yet arent set till launch suchlike rather fix code possibly introduce new bugs tell crew ok see warning 213 liftoff ignore'"
      ]
     },
     "execution_count": 41,
     "metadata": {},
     "output_type": "execute_result"
    }
   ],
   "source": [
    "ds_train['no_stopword'][4]"
   ]
  },
  {
   "cell_type": "markdown",
   "metadata": {},
   "source": [
    "Checking the total number of unique words: "
   ]
  },
  {
   "cell_type": "code",
   "execution_count": 44,
   "metadata": {},
   "outputs": [],
   "source": [
    "all_words_train_pre = []\n",
    "for row in ds_train['preprocess']:\n",
    "  tokens = word_tokenize(row)\n",
    "  all_words_train_pre += tokens"
   ]
  },
  {
   "cell_type": "code",
   "execution_count": 45,
   "metadata": {},
   "outputs": [],
   "source": [
    "all_words_train_no = []\n",
    "for row in ds_train['no_stopword']:\n",
    "  tokens = word_tokenize(row)\n",
    "  all_words_train_no += tokens"
   ]
  },
  {
   "cell_type": "code",
   "execution_count": 46,
   "metadata": {},
   "outputs": [],
   "source": [
    "all_words_test_pre = []\n",
    "for row in ds_test['preprocess']:\n",
    "  tokens = word_tokenize(row)\n",
    "  all_words_test_pre += tokens"
   ]
  },
  {
   "cell_type": "code",
   "execution_count": 47,
   "metadata": {},
   "outputs": [],
   "source": [
    "all_words_test_no = []\n",
    "for row in ds_test['no_stopword']:\n",
    "  tokens = word_tokenize(row)\n",
    "  all_words_test_no += tokens"
   ]
  },
  {
   "cell_type": "code",
   "execution_count": 48,
   "metadata": {},
   "outputs": [
    {
     "name": "stdout",
     "output_type": "stream",
     "text": [
      "train, with stopwords:\n",
      "total: 2036545 , unique: 94761\n",
      "\n",
      "train, no stopwords:\n",
      "total: 1150420 , unique: 94622\n",
      "\n",
      "test, with stopwords:\n",
      "total: 1285775 , unique: 68554\n",
      "\n",
      "test, no stopwords:\n",
      "total: 723349 , unique: 68415\n"
     ]
    }
   ],
   "source": [
    "print('train, with stopwords:\\ntotal:',len(all_words_train_pre),', unique:',len(set(all_words_train_pre)))\n",
    "print('\\ntrain, no stopwords:\\ntotal:',len(all_words_train_no),', unique:',len(set(all_words_train_no)))\n",
    "print('\\ntest, with stopwords:\\ntotal:',len(all_words_test_pre),', unique:',len(set(all_words_test_pre)))\n",
    "print('\\ntest, no stopwords:\\ntotal:',len(all_words_test_no),', unique:',len(set(all_words_test_no)))"
   ]
  },
  {
   "cell_type": "markdown",
   "metadata": {},
   "source": [
    "The fact that the count of unique words does not change very much between the counts with stopwords included and without stopwords included tells us that there is a high variety of vocabulary present across the samples. "
   ]
  }
 ],
 "metadata": {
  "kernelspec": {
   "display_name": "base",
   "language": "python",
   "name": "python3"
  },
  "language_info": {
   "codemirror_mode": {
    "name": "ipython",
    "version": 3
   },
   "file_extension": ".py",
   "mimetype": "text/x-python",
   "name": "python",
   "nbconvert_exporter": "python",
   "pygments_lexer": "ipython3",
   "version": "3.12.3"
  },
  "orig_nbformat": 4
 },
 "nbformat": 4,
 "nbformat_minor": 2
}
