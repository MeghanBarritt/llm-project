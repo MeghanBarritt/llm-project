{
 "cells": [
  {
   "cell_type": "markdown",
   "metadata": {},
   "source": [
    "# 4 - Model Training<p>"
   ]
  },
  {
   "cell_type": "code",
   "execution_count": 1,
   "metadata": {},
   "outputs": [],
   "source": [
    "from datasets import DatasetDict\n",
    "new_ds = DatasetDict.load_from_disk('pickles/new_ds_folder')"
   ]
  },
  {
   "cell_type": "markdown",
   "metadata": {},
   "source": [
    "Because the pipeline doesn't seem to be doing what I need it to, I'm going to use the model step by step.<p>\n",
    "The same tokenizer and model items from the pipeline will be used. "
   ]
  },
  {
   "cell_type": "code",
   "execution_count": 2,
   "metadata": {},
   "outputs": [],
   "source": [
    "from transformers import DistilBertTokenizerFast, DistilBertForSequenceClassification"
   ]
  },
  {
   "cell_type": "code",
   "execution_count": 3,
   "metadata": {},
   "outputs": [
    {
     "name": "stderr",
     "output_type": "stream",
     "text": [
      "Some weights of DistilBertForSequenceClassification were not initialized from the model checkpoint at distilbert-base-uncased and are newly initialized: ['classifier.bias', 'classifier.weight', 'pre_classifier.bias', 'pre_classifier.weight']\n",
      "You should probably TRAIN this model on a down-stream task to be able to use it for predictions and inference.\n"
     ]
    }
   ],
   "source": [
    "model_name = \"distilbert-base-uncased\"\n",
    "tokenizer = DistilBertTokenizerFast.from_pretrained(model_name)\n",
    "model = DistilBertForSequenceClassification.from_pretrained(model_name,num_labels=7)"
   ]
  },
  {
   "cell_type": "markdown",
   "metadata": {},
   "source": [
    "Next is performing tokenization, in batches, with truncation and padding. Truncation is necessary because some of the entries are apparently too long for this model, even with stopwords removed. "
   ]
  },
  {
   "cell_type": "code",
   "execution_count": 4,
   "metadata": {},
   "outputs": [],
   "source": [
    "def tokenize_process(batch):\n",
    "    return tokenizer(batch['no_stopword'], return_tensors='pt', truncation=True, padding=True)"
   ]
  },
  {
   "cell_type": "code",
   "execution_count": 5,
   "metadata": {},
   "outputs": [
    {
     "data": {
      "application/vnd.jupyter.widget-view+json": {
       "model_id": "9dc4d031d0ca4e50a69de14d58fa63c7",
       "version_major": 2,
       "version_minor": 0
      },
      "text/plain": [
       "Map:   0%|          | 0/11314 [00:00<?, ? examples/s]"
      ]
     },
     "metadata": {},
     "output_type": "display_data"
    },
    {
     "data": {
      "application/vnd.jupyter.widget-view+json": {
       "model_id": "9d28b0df62da4c0f8f383204caecf618",
       "version_major": 2,
       "version_minor": 0
      },
      "text/plain": [
       "Map:   0%|          | 0/7532 [00:00<?, ? examples/s]"
      ]
     },
     "metadata": {},
     "output_type": "display_data"
    }
   ],
   "source": [
    "tokens_train = new_ds['train'].map(tokenize_process, batched=True)\n",
    "tokens_test = new_ds['test'].map(tokenize_process, batched=True)"
   ]
  },
  {
   "cell_type": "markdown",
   "metadata": {},
   "source": [
    "Next is setting up the `trainer`. This includes building some additional functions that will be included in the trainer, along with the `tokenizer` and `model`.<p>\n",
    "First is `data_collator`, which was a recommendation from the HuggingFace community to help speed up training, and second it a function to `compute_metrics` during training."
   ]
  },
  {
   "cell_type": "code",
   "execution_count": 6,
   "metadata": {},
   "outputs": [],
   "source": [
    "import evaluate\n",
    "import numpy as np\n",
    "from transformers import DataCollatorWithPadding\n",
    "data_collator = DataCollatorWithPadding(tokenizer=tokenizer)"
   ]
  },
  {
   "cell_type": "code",
   "execution_count": 7,
   "metadata": {},
   "outputs": [],
   "source": [
    "accuracy_metric = evaluate.load(\"accuracy\")\n",
    "f1_metric = evaluate.load(\"f1\")\n",
    "\n",
    "def compute_metrics(eval_pred):\n",
    "    logits, labels = eval_pred\n",
    "    predictions = np.argmax(logits, axis=-1)  # Get the predicted class labels\n",
    "    # Compute accuracy\n",
    "    accuracy = accuracy_metric.compute(predictions=predictions, references=labels)\n",
    "    # Compute F1 score\n",
    "    f1 = f1_metric.compute(predictions=predictions, references=labels, average='weighted')\n",
    "    # Return both metrics\n",
    "    return {\"accuracy\": accuracy[\"accuracy\"], \"f1\": f1[\"f1\"]}"
   ]
  },
  {
   "cell_type": "code",
   "execution_count": 8,
   "metadata": {},
   "outputs": [],
   "source": [
    "from transformers import TrainingArguments, Trainer\n",
    "training_args = TrainingArguments(\n",
    "    output_dir='my_model',\n",
    "    report_to='none',\n",
    "    learning_rate=2e-5,\n",
    "    per_device_train_batch_size=16,\n",
    "    per_device_eval_batch_size=16,\n",
    "    num_train_epochs=1)\n",
    "\n",
    "trainer = Trainer(\n",
    "   model=model,\n",
    "   args=training_args,\n",
    "   train_dataset=tokens_train,\n",
    "   eval_dataset=tokens_test,\n",
    "   tokenizer=tokenizer,\n",
    "   data_collator=data_collator,\n",
    "   compute_metrics=compute_metrics)"
   ]
  },
  {
   "cell_type": "markdown",
   "metadata": {},
   "source": [
    "Then it's time to train the model. Since I have a gpu this will hopefully go reasonably fast. "
   ]
  },
  {
   "cell_type": "code",
   "execution_count": 9,
   "metadata": {},
   "outputs": [
    {
     "data": {
      "application/vnd.jupyter.widget-view+json": {
       "model_id": "9e7127d30f8a4aceb4cabb76b8eb0946",
       "version_major": 2,
       "version_minor": 0
      },
      "text/plain": [
       "  0%|          | 0/708 [00:00<?, ?it/s]"
      ]
     },
     "metadata": {},
     "output_type": "display_data"
    },
    {
     "name": "stdout",
     "output_type": "stream",
     "text": [
      "{'loss': 0.8809, 'grad_norm': 8.73812198638916, 'learning_rate': 5.8757062146892665e-06, 'epoch': 0.71}\n",
      "{'train_runtime': 332.2057, 'train_samples_per_second': 34.057, 'train_steps_per_second': 2.131, 'train_loss': 0.8063561175502626, 'epoch': 1.0}\n"
     ]
    },
    {
     "data": {
      "text/plain": [
       "TrainOutput(global_step=708, training_loss=0.8063561175502626, metrics={'train_runtime': 332.2057, 'train_samples_per_second': 34.057, 'train_steps_per_second': 2.131, 'total_flos': 1498869787551744.0, 'train_loss': 0.8063561175502626, 'epoch': 1.0})"
      ]
     },
     "execution_count": 9,
     "metadata": {},
     "output_type": "execute_result"
    }
   ],
   "source": [
    "trainer.train()"
   ]
  },
  {
   "cell_type": "markdown",
   "metadata": {},
   "source": [
    "Above shows a loss of 0.88, and a training loss of 0.81 (rounded). <p>\n",
    "I can also get evaluation metrics from the trainer."
   ]
  },
  {
   "cell_type": "code",
   "execution_count": 10,
   "metadata": {},
   "outputs": [
    {
     "data": {
      "application/vnd.jupyter.widget-view+json": {
       "model_id": "42e35b5513b6429e93ba978f1b1d85c2",
       "version_major": 2,
       "version_minor": 0
      },
      "text/plain": [
       "  0%|          | 0/708 [00:00<?, ?it/s]"
      ]
     },
     "metadata": {},
     "output_type": "display_data"
    },
    {
     "data": {
      "application/vnd.jupyter.widget-view+json": {
       "model_id": "2d4a6d0ee3d241269354b9185d6221a9",
       "version_major": 2,
       "version_minor": 0
      },
      "text/plain": [
       "  0%|          | 0/471 [00:00<?, ?it/s]"
      ]
     },
     "metadata": {},
     "output_type": "display_data"
    }
   ],
   "source": [
    "results_train = trainer.evaluate(eval_dataset=tokens_train)\n",
    "results_test = trainer.evaluate(eval_dataset=tokens_test)"
   ]
  },
  {
   "cell_type": "code",
   "execution_count": 11,
   "metadata": {},
   "outputs": [
    {
     "name": "stdout",
     "output_type": "stream",
     "text": [
      "Training Evaluation Results: {'eval_loss': 0.5214135646820068, 'eval_accuracy': 0.8180130811384125, 'eval_f1': 0.8017958657777268, 'eval_runtime': 116.832, 'eval_samples_per_second': 96.84, 'eval_steps_per_second': 6.06, 'epoch': 1.0}\n",
      "Test Evaluation Results: {'eval_loss': 0.6322040557861328, 'eval_accuracy': 0.7741635687732342, 'eval_f1': 0.759058270946797, 'eval_runtime': 76.5783, 'eval_samples_per_second': 98.357, 'eval_steps_per_second': 6.151, 'epoch': 1.0}\n"
     ]
    }
   ],
   "source": [
    "print(\"Training Evaluation Results:\", results_train)\n",
    "print(\"Test Evaluation Results:\", results_test)"
   ]
  },
  {
   "cell_type": "markdown",
   "metadata": {},
   "source": [
    "These show a much lower loss value, and I am not entirely sure why. Possibly because this is for the trained model rather than the in-training model?<p>\n",
    "Accuracy and f1 are very similar. F1 is slightly lower, which I think means that although the model did a decent job of accounting for under-represented categories, it still had some problems. <p>\n",
    "Drop between training and test is similar for both accuracy and f1, which is good. "
   ]
  },
  {
   "cell_type": "code",
   "execution_count": 12,
   "metadata": {},
   "outputs": [],
   "source": [
    "import torch"
   ]
  },
  {
   "cell_type": "code",
   "execution_count": 37,
   "metadata": {},
   "outputs": [],
   "source": [
    "import pandas as pd\n",
    "ds_test = pd.read_pickle('pickles/ds_test.pkl')\n",
    "\n",
    "texts = ds_test['no_stopword'].tolist()"
   ]
  },
  {
   "cell_type": "code",
   "execution_count": 38,
   "metadata": {},
   "outputs": [],
   "source": [
    "device = torch.device('cuda' if torch.cuda.is_available() else 'cpu')\n",
    "model.to(device)\n",
    "batch_size = 8"
   ]
  },
  {
   "cell_type": "code",
   "execution_count": 39,
   "metadata": {},
   "outputs": [],
   "source": [
    "def predict_in_batches(texts, batch_size):\n",
    "    predictions = []\n",
    "    # Iterate over texts in smaller batches\n",
    "    for i in range(0, len(texts), batch_size):\n",
    "        batch = texts[i:i+batch_size]\n",
    "        \n",
    "        # Tokenize the batch\n",
    "        inputs = tokenizer(batch, return_tensors='pt', padding=True, truncation=True, max_length=512)\n",
    "        \n",
    "        # Move inputs to the same device as the model\n",
    "        inputs = {key: value.to(device) for key, value in inputs.items()}\n",
    "\n",
    "        # Make predictions\n",
    "        with torch.no_grad():  # no need to compute gradients\n",
    "            outputs = model(**inputs)\n",
    "\n",
    "        # Get predicted classes\n",
    "        logits = outputs.logits\n",
    "        predicted_classes = torch.argmax(logits, dim=-1).cpu().numpy()\n",
    "        \n",
    "        predictions.extend(predicted_classes)\n",
    "\n",
    "    return predictions"
   ]
  },
  {
   "cell_type": "code",
   "execution_count": null,
   "metadata": {},
   "outputs": [],
   "source": [
    "predicted_classes = predict_in_batches(texts, batch_size)\n",
    "ds_test['predicted'] = predicted_classes"
   ]
  },
  {
   "cell_type": "markdown",
   "metadata": {},
   "source": [
    "ChatGPT had to troubleshoot that code, but now that it works I can visualize the predicitons of the test set:"
   ]
  },
  {
   "cell_type": "code",
   "execution_count": 57,
   "metadata": {},
   "outputs": [
    {
     "data": {
      "text/plain": [
       "([<matplotlib.axis.YTick at 0x127a16e1f40>,\n",
       "  <matplotlib.axis.YTick at 0x127a3a00170>,\n",
       "  <matplotlib.axis.YTick at 0x127a3a00b00>,\n",
       "  <matplotlib.axis.YTick at 0x127a3a2ec00>,\n",
       "  <matplotlib.axis.YTick at 0x127a3a2f5f0>],\n",
       " [Text(0, 0, '0'),\n",
       "  Text(0, 500, '500'),\n",
       "  Text(0, 1000, '1000'),\n",
       "  Text(0, 1500, '1500'),\n",
       "  Text(0, 2000, '2000')])"
      ]
     },
     "execution_count": 57,
     "metadata": {},
     "output_type": "execute_result"
    },
    {
     "data": {
      "image/png": "[encoded data removed]",
      "text/plain": [
       "<Figure size 640x480 with 1 Axes>"
      ]
     },
     "metadata": {},
     "output_type": "display_data"
    }
   ],
   "source": [
    "import matplotlib.pyplot as plt\n",
    "\n",
    "plt.hist(ds_test['simple_topic'],bins=7,color='blue',alpha=0.65,label='actual label')\n",
    "plt.hist(ds_test['predicted'],bins=7,color='red',alpha=0.6,label='predicted label')\n",
    "plt.legend()\n",
    "plt.title('Trained model predictions')\n",
    "plt.xticks([])\n",
    "plt.yticks(np.arange(0,2500,500))\n"
   ]
  },
  {
   "cell_type": "markdown",
   "metadata": {},
   "source": [
    "And it does show that there was an entire category that the model failed to learn, which seems to explain the lower f1 score. "
   ]
  },
  {
   "cell_type": "markdown",
   "metadata": {},
   "source": [
    "I suspect 'optimization' was also supposed to include some kind of hyperparameter tuning, rather than simply running the trainer function on the model, but while I was still using only Google collab, being stuck with the CPU processing meant that everything took forever. And before that, I had a terrible time understanding all of the documentation to the point of being able to get something to run at _all_, so with 9+ hours to run the model the first time, there just was not time. If I had been using my own computer from the start, and done it all in VSCode rather than moving it in here to submit, I would have plenty of time, as I have a GPU."
   ]
  },
  {
   "cell_type": "markdown",
   "metadata": {},
   "source": [
    "Adding on visualizations of the final scoring metrics.<p>\n",
    "evals:<br>\n",
    "training:<ul>\n",
    "accuracy: 0.818<br>\n",
    "f1: 0.802</ul>\n",
    "\n",
    "test:<ul>\n",
    "accuracy: 0.774<br>\n",
    "f1: 0.759</ul>\n",
    "\n",
    "random chance:<ul>\n",
    "accuracy: 0.14<br>\n",
    "f1: 0.14"
   ]
  },
  {
   "cell_type": "code",
   "execution_count": 1,
   "metadata": {},
   "outputs": [],
   "source": [
    "import pandas as pd\n",
    "import numpy as np\n",
    "import matplotlib.pyplot as plt"
   ]
  },
  {
   "cell_type": "code",
   "execution_count": 2,
   "metadata": {},
   "outputs": [
    {
     "data": {
      "text/html": [
       "<div>\n",
       "<style scoped>\n",
       "    .dataframe tbody tr th:only-of-type {\n",
       "        vertical-align: middle;\n",
       "    }\n",
       "\n",
       "    .dataframe tbody tr th {\n",
       "        vertical-align: top;\n",
       "    }\n",
       "\n",
       "    .dataframe thead th {\n",
       "        text-align: right;\n",
       "    }\n",
       "</style>\n",
       "<table border=\"1\" class=\"dataframe\">\n",
       "  <thead>\n",
       "    <tr style=\"text-align: right;\">\n",
       "      <th></th>\n",
       "      <th>accuracy</th>\n",
       "      <th>f1</th>\n",
       "    </tr>\n",
       "  </thead>\n",
       "  <tbody>\n",
       "    <tr>\n",
       "      <th>training</th>\n",
       "      <td>0.818</td>\n",
       "      <td>0.802</td>\n",
       "    </tr>\n",
       "    <tr>\n",
       "      <th>test</th>\n",
       "      <td>0.774</td>\n",
       "      <td>0.759</td>\n",
       "    </tr>\n",
       "    <tr>\n",
       "      <th>random chance</th>\n",
       "      <td>0.140</td>\n",
       "      <td>0.140</td>\n",
       "    </tr>\n",
       "  </tbody>\n",
       "</table>\n",
       "</div>"
      ],
      "text/plain": [
       "               accuracy     f1\n",
       "training          0.818  0.802\n",
       "test              0.774  0.759\n",
       "random chance     0.140  0.140"
      ]
     },
     "execution_count": 2,
     "metadata": {},
     "output_type": "execute_result"
    }
   ],
   "source": [
    "data = {'training':[0.818,0.802],'test':[0.774,0.759],'random chance':[0.14,0.14]}\n",
    "metrics = pd.DataFrame.from_dict(data,orient='index',columns=['accuracy','f1'])\n",
    "metrics"
   ]
  },
  {
   "cell_type": "code",
   "execution_count": 3,
   "metadata": {},
   "outputs": [
    {
     "data": {
      "text/plain": [
       "Text(0.5, 1.0, 'Training Evaluation Metrics')"
      ]
     },
     "execution_count": 3,
     "metadata": {},
     "output_type": "execute_result"
    },
    {
     "data": {
      "image/png": "[encoded data removed]",
      "text/plain": [
       "<Figure size 640x480 with 1 Axes>"
      ]
     },
     "metadata": {},
     "output_type": "display_data"
    }
   ],
   "source": [
    "b_width = 0.2\n",
    "\n",
    "bar1 = metrics['accuracy']\n",
    "bar2 = metrics['f1']\n",
    "\n",
    "x1 = np.arange(len(bar1))\n",
    "x2 = x1 + b_width\n",
    "\n",
    "fig, ax = plt.subplots(dpi=100)\n",
    "ax.bar(x1,bar1,width=b_width,edgecolor='white',label='Accuracy')\n",
    "ax.bar(x2,bar2,width=b_width,edgecolor='white',label='F1')\n",
    "\n",
    "ax.set_xticks(x1)\n",
    "ax.set_xticklabels(['Eval: Train','Eval: Test','Random Chance'])\n",
    "ax.legend()\n",
    "plt.title('Training Evaluation Metrics')"
   ]
  },
  {
   "cell_type": "markdown",
   "metadata": {},
   "source": [
    "all loss values:<ul>\n",
    "trainer 1 : 0.881<br>\n",
    "trainer 2: 0.806<br>\n",
    "eval_train: 0.521<br>\n",
    "eval_test: 0.632<br>\n",
    "chance: 1.95"
   ]
  },
  {
   "cell_type": "code",
   "execution_count": 4,
   "metadata": {},
   "outputs": [
    {
     "data": {
      "text/html": [
       "<div>\n",
       "<style scoped>\n",
       "    .dataframe tbody tr th:only-of-type {\n",
       "        vertical-align: middle;\n",
       "    }\n",
       "\n",
       "    .dataframe tbody tr th {\n",
       "        vertical-align: top;\n",
       "    }\n",
       "\n",
       "    .dataframe thead th {\n",
       "        text-align: right;\n",
       "    }\n",
       "</style>\n",
       "<table border=\"1\" class=\"dataframe\">\n",
       "  <thead>\n",
       "    <tr style=\"text-align: right;\">\n",
       "      <th></th>\n",
       "      <th>loss</th>\n",
       "    </tr>\n",
       "  </thead>\n",
       "  <tbody>\n",
       "    <tr>\n",
       "      <th>training1</th>\n",
       "      <td>0.881</td>\n",
       "    </tr>\n",
       "    <tr>\n",
       "      <th>training2</th>\n",
       "      <td>0.806</td>\n",
       "    </tr>\n",
       "    <tr>\n",
       "      <th>eval_train</th>\n",
       "      <td>0.521</td>\n",
       "    </tr>\n",
       "    <tr>\n",
       "      <th>eval_test</th>\n",
       "      <td>0.632</td>\n",
       "    </tr>\n",
       "    <tr>\n",
       "      <th>chance</th>\n",
       "      <td>1.950</td>\n",
       "    </tr>\n",
       "  </tbody>\n",
       "</table>\n",
       "</div>"
      ],
      "text/plain": [
       "             loss\n",
       "training1   0.881\n",
       "training2   0.806\n",
       "eval_train  0.521\n",
       "eval_test   0.632\n",
       "chance      1.950"
      ]
     },
     "execution_count": 4,
     "metadata": {},
     "output_type": "execute_result"
    }
   ],
   "source": [
    "data2 = {'training1':[0.881],'training2':[0.806],'eval_train':[0.521],'eval_test':[0.632],'chance':[1.95]}\n",
    "losses = pd.DataFrame.from_dict(data2,orient='index',columns=['loss'])\n",
    "losses"
   ]
  },
  {
   "cell_type": "code",
   "execution_count": 5,
   "metadata": {},
   "outputs": [
    {
     "data": {
      "text/plain": [
       "Text(0.5, 1.0, 'Loss values')"
      ]
     },
     "execution_count": 5,
     "metadata": {},
     "output_type": "execute_result"
    },
    {
     "data": {
      "image/png": "[encoded data removed]",
      "text/plain": [
       "<Figure size 640x480 with 1 Axes>"
      ]
     },
     "metadata": {},
     "output_type": "display_data"
    }
   ],
   "source": [
    "b_width = 0.3\n",
    "\n",
    "bar1 = losses['loss']\n",
    "\n",
    "x1 = np.arange(len(bar1))\n",
    "\n",
    "fig, ax = plt.subplots(dpi=100)\n",
    "ax.bar(x1,bar1,width=b_width,edgecolor='white',label='Loss')\n",
    "\n",
    "ax.set_xticks(x1)\n",
    "ax.set_xticklabels(['Training 1','Training 2','Eval: Train','Eval: Test','Random Chance'])\n",
    "plt.title('Loss values')"
   ]
  }
 ],
 "metadata": {
  "kernelspec": {
   "display_name": "base",
   "language": "python",
   "name": "python3"
  },
  "language_info": {
   "codemirror_mode": {
    "name": "ipython",
    "version": 3
   },
   "file_extension": ".py",
   "mimetype": "text/x-python",
   "name": "python",
   "nbconvert_exporter": "python",
   "pygments_lexer": "ipython3",
   "version": "3.12.3"
  },
  "orig_nbformat": 4
 },
 "nbformat": 4,
 "nbformat_minor": 2
}
