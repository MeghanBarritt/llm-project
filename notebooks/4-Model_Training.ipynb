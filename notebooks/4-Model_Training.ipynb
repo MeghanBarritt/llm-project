{
 "cells": [
  {
   "cell_type": "markdown",
   "metadata": {},
   "source": [
    "# 4 - Model Training<p>"
   ]
  },
  {
   "cell_type": "code",
   "execution_count": 1,
   "metadata": {},
   "outputs": [],
   "source": [
    "from datasets import DatasetDict\n",
    "new_ds = DatasetDict.load_from_disk('pickles/new_ds_folder')"
   ]
  },
  {
   "cell_type": "markdown",
   "metadata": {},
   "source": [
    "Because the pipeline doesn't seem to be doing what I need it to, I'm going to use the model step by step.<p>\n",
    "The same tokenizer and model items from the pipeline will be used. "
   ]
  },
  {
   "cell_type": "code",
   "execution_count": 2,
   "metadata": {},
   "outputs": [],
   "source": [
    "from transformers import DistilBertTokenizerFast, DistilBertForSequenceClassification"
   ]
  },
  {
   "cell_type": "code",
   "execution_count": 3,
   "metadata": {},
   "outputs": [
    {
     "name": "stderr",
     "output_type": "stream",
     "text": [
      "Some weights of DistilBertForSequenceClassification were not initialized from the model checkpoint at distilbert-base-uncased and are newly initialized: ['classifier.bias', 'classifier.weight', 'pre_classifier.bias', 'pre_classifier.weight']\n",
      "You should probably TRAIN this model on a down-stream task to be able to use it for predictions and inference.\n"
     ]
    }
   ],
   "source": [
    "model_name = \"distilbert-base-uncased\"\n",
    "tokenizer = DistilBertTokenizerFast.from_pretrained(model_name)\n",
    "model = DistilBertForSequenceClassification.from_pretrained(model_name,num_labels=7)"
   ]
  },
  {
   "cell_type": "markdown",
   "metadata": {},
   "source": [
    "Next is performing tokenization, in batches, with truncation and padding. Truncation is necessary because some of the entries are apparently too long for this model, even with stopwords removed. "
   ]
  },
  {
   "cell_type": "code",
   "execution_count": 4,
   "metadata": {},
   "outputs": [],
   "source": [
    "def tokenize_process(batch):\n",
    "    return tokenizer(batch['no_stopword'], return_tensors='pt', truncation=True, padding=True)"
   ]
  },
  {
   "cell_type": "code",
   "execution_count": 5,
   "metadata": {},
   "outputs": [
    {
     "data": {
      "application/vnd.jupyter.widget-view+json": {
       "model_id": "cd2c963268034069b1adc0bbd54b8869",
       "version_major": 2,
       "version_minor": 0
      },
      "text/plain": [
       "Map:   0%|          | 0/7532 [00:00<?, ? examples/s]"
      ]
     },
     "metadata": {},
     "output_type": "display_data"
    }
   ],
   "source": [
    "tokens_train = new_ds['train'].map(tokenize_process, batched=True)\n",
    "tokens_test = new_ds['test'].map(tokenize_process, batched=True)"
   ]
  },
  {
   "cell_type": "markdown",
   "metadata": {},
   "source": [
    "Next is setting up the `trainer`. This includes building some additional functions that will be included in the trainer, along with the `tokenizer` and `model`.<p>\n",
    "First is `data_collator`, which was a recommendation from the HuggingFace community to help speed up training, and second it a function to `compute_metrics` during training."
   ]
  },
  {
   "cell_type": "code",
   "execution_count": 6,
   "metadata": {},
   "outputs": [],
   "source": [
    "import evaluate\n",
    "import numpy as np\n",
    "from transformers import DataCollatorWithPadding\n",
    "data_collator = DataCollatorWithPadding(tokenizer=tokenizer)"
   ]
  },
  {
   "cell_type": "code",
   "execution_count": 7,
   "metadata": {},
   "outputs": [],
   "source": [
    "accuracy_metric = evaluate.load(\"accuracy\")\n",
    "f1_metric = evaluate.load(\"f1\")\n",
    "\n",
    "def compute_metrics(eval_pred):\n",
    "    logits, labels = eval_pred\n",
    "    predictions = np.argmax(logits, axis=-1)  # Get the predicted class labels\n",
    "    # Compute accuracy\n",
    "    accuracy = accuracy_metric.compute(predictions=predictions, references=labels)\n",
    "    # Compute F1 score\n",
    "    f1 = f1_metric.compute(predictions=predictions, references=labels, average='weighted')\n",
    "    # Return both metrics\n",
    "    return {\"accuracy\": accuracy[\"accuracy\"], \"f1\": f1[\"f1\"]}"
   ]
  },
  {
   "cell_type": "code",
   "execution_count": 8,
   "metadata": {},
   "outputs": [],
   "source": [
    "from transformers import TrainingArguments, Trainer\n",
    "training_args = TrainingArguments(\n",
    "    output_dir='my_model',\n",
    "    report_to='none',\n",
    "    learning_rate=2e-5,\n",
    "    per_device_train_batch_size=16,\n",
    "    per_device_eval_batch_size=16,\n",
    "    num_train_epochs=1)\n",
    "\n",
    "trainer = Trainer(\n",
    "   model=model,\n",
    "   args=training_args,\n",
    "   train_dataset=tokens_train,\n",
    "   eval_dataset=tokens_test,\n",
    "   tokenizer=tokenizer,\n",
    "   data_collator=data_collator,\n",
    "   compute_metrics=compute_metrics)"
   ]
  },
  {
   "cell_type": "markdown",
   "metadata": {},
   "source": [
    "Then it's time to train the model. Since I have a gpu this will hopefully go reasonably fast. "
   ]
  },
  {
   "cell_type": "code",
   "execution_count": 9,
   "metadata": {},
   "outputs": [
    {
     "data": {
      "application/vnd.jupyter.widget-view+json": {
       "model_id": "1275a6d3b74d4cc1a91429ec075d2750",
       "version_major": 2,
       "version_minor": 0
      },
      "text/plain": [
       "  0%|          | 0/708 [00:00<?, ?it/s]"
      ]
     },
     "metadata": {},
     "output_type": "display_data"
    },
    {
     "name": "stdout",
     "output_type": "stream",
     "text": [
      "{'loss': 0.8676, 'grad_norm': 7.037502765655518, 'learning_rate': 5.8757062146892665e-06, 'epoch': 0.71}\n",
      "{'train_runtime': 278.3958, 'train_samples_per_second': 40.64, 'train_steps_per_second': 2.543, 'train_loss': 0.795830570371811, 'epoch': 1.0}\n"
     ]
    },
    {
     "data": {
      "text/plain": [
       "TrainOutput(global_step=708, training_loss=0.795830570371811, metrics={'train_runtime': 278.3958, 'train_samples_per_second': 40.64, 'train_steps_per_second': 2.543, 'total_flos': 1498869787551744.0, 'train_loss': 0.795830570371811, 'epoch': 1.0})"
      ]
     },
     "execution_count": 9,
     "metadata": {},
     "output_type": "execute_result"
    }
   ],
   "source": [
    "trainer.train()"
   ]
  },
  {
   "cell_type": "markdown",
   "metadata": {},
   "source": [
    "Above shows a loss of 0.88, and a training loss of 0.81 (rounded). <p>\n",
    "I can also get evaluation metrics from the trainer."
   ]
  },
  {
   "cell_type": "code",
   "execution_count": 10,
   "metadata": {},
   "outputs": [
    {
     "data": {
      "application/vnd.jupyter.widget-view+json": {
       "model_id": "72b2bfaad12f4297b5aad947d1510282",
       "version_major": 2,
       "version_minor": 0
      },
      "text/plain": [
       "  0%|          | 0/708 [00:00<?, ?it/s]"
      ]
     },
     "metadata": {},
     "output_type": "display_data"
    },
    {
     "data": {
      "application/vnd.jupyter.widget-view+json": {
       "model_id": "ad48caa83e2b4c7688937fd957473cfe",
       "version_major": 2,
       "version_minor": 0
      },
      "text/plain": [
       "  0%|          | 0/471 [00:00<?, ?it/s]"
      ]
     },
     "metadata": {},
     "output_type": "display_data"
    }
   ],
   "source": [
    "results_train = trainer.evaluate(eval_dataset=tokens_train)\n",
    "results_test = trainer.evaluate(eval_dataset=tokens_test)"
   ]
  },
  {
   "cell_type": "code",
   "execution_count": 11,
   "metadata": {},
   "outputs": [
    {
     "name": "stdout",
     "output_type": "stream",
     "text": [
      "Training Evaluation Results: {'eval_loss': 0.5219780802726746, 'eval_accuracy': 0.8205762771787166, 'eval_f1': 0.8049196868887442, 'eval_runtime': 92.9594, 'eval_samples_per_second': 121.709, 'eval_steps_per_second': 7.616, 'epoch': 1.0}\n",
      "Test Evaluation Results: {'eval_loss': 0.6301079988479614, 'eval_accuracy': 0.7760223048327137, 'eval_f1': 0.7612204442796139, 'eval_runtime': 61.7287, 'eval_samples_per_second': 122.018, 'eval_steps_per_second': 7.63, 'epoch': 1.0}\n"
     ]
    }
   ],
   "source": [
    "print(\"Training Evaluation Results:\", results_train)\n",
    "print(\"Test Evaluation Results:\", results_test)"
   ]
  },
  {
   "cell_type": "markdown",
   "metadata": {},
   "source": [
    "These show a much lower loss value, and I am not entirely sure why. Possibly because this is for the trained model rather than the in-training model?<p>\n",
    "Accuracy and f1 are very similar. F1 is slightly lower, which I think means that although the model did a decent job of accounting for under-represented categories, it still had some problems. <p>\n",
    "Drop between training and test is similar for both accuracy and f1, which is good. "
   ]
  },
  {
   "cell_type": "code",
   "execution_count": 12,
   "metadata": {},
   "outputs": [],
   "source": [
    "import torch"
   ]
  },
  {
   "cell_type": "code",
   "execution_count": 13,
   "metadata": {},
   "outputs": [],
   "source": [
    "import pandas as pd\n",
    "ds_test = pd.read_pickle('pickles/ds_test.pkl')\n",
    "\n",
    "texts = ds_test['no_stopword'].tolist()"
   ]
  },
  {
   "cell_type": "code",
   "execution_count": 14,
   "metadata": {},
   "outputs": [],
   "source": [
    "device = torch.device('cuda' if torch.cuda.is_available() else 'cpu')\n",
    "model.to(device)\n",
    "batch_size = 8"
   ]
  },
  {
   "cell_type": "code",
   "execution_count": 15,
   "metadata": {},
   "outputs": [],
   "source": [
    "def predict_in_batches(texts, batch_size):\n",
    "    predictions = []\n",
    "    # Iterate over texts in smaller batches\n",
    "    for i in range(0, len(texts), batch_size):\n",
    "        batch = texts[i:i+batch_size]\n",
    "        \n",
    "        # Tokenize the batch\n",
    "        inputs = tokenizer(batch, return_tensors='pt', padding=True, truncation=True, max_length=512)\n",
    "        \n",
    "        # Move inputs to the same device as the model\n",
    "        inputs = {key: value.to(device) for key, value in inputs.items()}\n",
    "\n",
    "        # Make predictions\n",
    "        with torch.no_grad():  # no need to compute gradients\n",
    "            outputs = model(**inputs)\n",
    "\n",
    "        # Get predicted classes\n",
    "        logits = outputs.logits\n",
    "        predicted_classes = torch.argmax(logits, dim=-1).cpu().numpy()\n",
    "        \n",
    "        predictions.extend(predicted_classes)\n",
    "\n",
    "    return predictions"
   ]
  },
  {
   "cell_type": "code",
   "execution_count": 16,
   "metadata": {},
   "outputs": [],
   "source": [
    "predicted_classes = predict_in_batches(texts, batch_size)\n",
    "ds_test['predicted'] = predicted_classes"
   ]
  },
  {
   "cell_type": "markdown",
   "metadata": {},
   "source": [
    "ChatGPT had to troubleshoot that code, but now that it works I can visualize the predicitons of the test set:"
   ]
  },
  {
   "cell_type": "code",
   "execution_count": 17,
   "metadata": {},
   "outputs": [
    {
     "data": {
      "image/png": "[encoded data removed]",
      "text/plain": [
       "<Figure size 640x480 with 1 Axes>"
      ]
     },
     "metadata": {},
     "output_type": "display_data"
    }
   ],
   "source": [
    "import matplotlib.pyplot as plt\n",
    "\n",
    "plt.hist(ds_test['simple_topic'],bins=7,color='blue',alpha=0.65,label='actual label')\n",
    "plt.hist(ds_test['predicted'],bins=7,color='red',alpha=0.6,label='predicted label')\n",
    "plt.legend()\n",
    "plt.title('Trained model predictions')\n",
    "plt.xticks([])\n",
    "plt.yticks(np.arange(0,2500,500))\n",
    "\n",
    "plt.savefig('charts/trained_model_preds.png',bbox_inches='tight')"
   ]
  },
  {
   "cell_type": "markdown",
   "metadata": {},
   "source": [
    "And it does show that there was an entire category that the model failed to learn, which seems to explain the lower f1 score. "
   ]
  },
  {
   "cell_type": "markdown",
   "metadata": {},
   "source": [
    "I suspect 'optimization' was also supposed to include some kind of hyperparameter tuning, rather than simply running the trainer function on the model, but while I was still using only Google collab, being stuck with the CPU processing meant that everything took forever. And before that, I had a terrible time understanding all of the documentation to the point of being able to get something to run at _all_, so with 9+ hours to run the model the first time, there just was not time. If I had been using my own computer from the start, and done it all in VSCode rather than moving it in here to submit, I would have plenty of time, as I have a GPU."
   ]
  },
  {
   "cell_type": "markdown",
   "metadata": {},
   "source": [
    "Adding on visualizations of the final scoring metrics.<p>\n",
    "evals:<br>\n",
    "training:<ul>\n",
    "accuracy: 0.818<br>\n",
    "f1: 0.802</ul>\n",
    "\n",
    "test:<ul>\n",
    "accuracy: 0.774<br>\n",
    "f1: 0.759</ul>\n",
    "\n",
    "random chance:<ul>\n",
    "accuracy: 0.14<br>\n",
    "f1: 0.14"
   ]
  },
  {
   "cell_type": "code",
   "execution_count": 18,
   "metadata": {},
   "outputs": [],
   "source": [
    "import pandas as pd\n",
    "import numpy as np\n",
    "import matplotlib.pyplot as plt"
   ]
  },
  {
   "cell_type": "code",
   "execution_count": 19,
   "metadata": {},
   "outputs": [
    {
     "data": {
      "text/html": [
       "<div>\n",
       "<style scoped>\n",
       "    .dataframe tbody tr th:only-of-type {\n",
       "        vertical-align: middle;\n",
       "    }\n",
       "\n",
       "    .dataframe tbody tr th {\n",
       "        vertical-align: top;\n",
       "    }\n",
       "\n",
       "    .dataframe thead th {\n",
       "        text-align: right;\n",
       "    }\n",
       "</style>\n",
       "<table border=\"1\" class=\"dataframe\">\n",
       "  <thead>\n",
       "    <tr style=\"text-align: right;\">\n",
       "      <th></th>\n",
       "      <th>accuracy</th>\n",
       "      <th>f1</th>\n",
       "    </tr>\n",
       "  </thead>\n",
       "  <tbody>\n",
       "    <tr>\n",
       "      <th>training</th>\n",
       "      <td>0.818</td>\n",
       "      <td>0.802</td>\n",
       "    </tr>\n",
       "    <tr>\n",
       "      <th>test</th>\n",
       "      <td>0.774</td>\n",
       "      <td>0.759</td>\n",
       "    </tr>\n",
       "    <tr>\n",
       "      <th>random chance</th>\n",
       "      <td>0.140</td>\n",
       "      <td>0.140</td>\n",
       "    </tr>\n",
       "  </tbody>\n",
       "</table>\n",
       "</div>"
      ],
      "text/plain": [
       "               accuracy     f1\n",
       "training          0.818  0.802\n",
       "test              0.774  0.759\n",
       "random chance     0.140  0.140"
      ]
     },
     "execution_count": 19,
     "metadata": {},
     "output_type": "execute_result"
    }
   ],
   "source": [
    "data = {'training':[0.818,0.802],'test':[0.774,0.759],'random chance':[0.14,0.14]}\n",
    "metrics = pd.DataFrame.from_dict(data,orient='index',columns=['accuracy','f1'])\n",
    "metrics"
   ]
  },
  {
   "cell_type": "markdown",
   "metadata": {},
   "source": [
    "all loss values:<ul>\n",
    "trainer 1 : 0.881<br>\n",
    "trainer 2: 0.806<br>\n",
    "eval_train: 0.521<br>\n",
    "eval_test: 0.632<br>\n",
    "chance: 1.95"
   ]
  },
  {
   "cell_type": "code",
   "execution_count": 21,
   "metadata": {},
   "outputs": [
    {
     "data": {
      "text/html": [
       "<div>\n",
       "<style scoped>\n",
       "    .dataframe tbody tr th:only-of-type {\n",
       "        vertical-align: middle;\n",
       "    }\n",
       "\n",
       "    .dataframe tbody tr th {\n",
       "        vertical-align: top;\n",
       "    }\n",
       "\n",
       "    .dataframe thead th {\n",
       "        text-align: right;\n",
       "    }\n",
       "</style>\n",
       "<table border=\"1\" class=\"dataframe\">\n",
       "  <thead>\n",
       "    <tr style=\"text-align: right;\">\n",
       "      <th></th>\n",
       "      <th>loss</th>\n",
       "    </tr>\n",
       "  </thead>\n",
       "  <tbody>\n",
       "    <tr>\n",
       "      <th>training1</th>\n",
       "      <td>0.881</td>\n",
       "    </tr>\n",
       "    <tr>\n",
       "      <th>training2</th>\n",
       "      <td>0.806</td>\n",
       "    </tr>\n",
       "    <tr>\n",
       "      <th>eval_train</th>\n",
       "      <td>0.521</td>\n",
       "    </tr>\n",
       "    <tr>\n",
       "      <th>eval_test</th>\n",
       "      <td>0.632</td>\n",
       "    </tr>\n",
       "    <tr>\n",
       "      <th>chance</th>\n",
       "      <td>1.950</td>\n",
       "    </tr>\n",
       "  </tbody>\n",
       "</table>\n",
       "</div>"
      ],
      "text/plain": [
       "             loss\n",
       "training1   0.881\n",
       "training2   0.806\n",
       "eval_train  0.521\n",
       "eval_test   0.632\n",
       "chance      1.950"
      ]
     },
     "execution_count": 21,
     "metadata": {},
     "output_type": "execute_result"
    }
   ],
   "source": [
    "data2 = {'training1':[0.881],'training2':[0.806],'eval_train':[0.521],'eval_test':[0.632],'chance':[1.95]}\n",
    "losses = pd.DataFrame.from_dict(data2,orient='index',columns=['loss'])\n",
    "losses"
   ]
  },
  {
   "cell_type": "code",
   "execution_count": 27,
   "metadata": {},
   "outputs": [
    {
     "data": {
      "image/png": "[encoded data removed]",
      "text/plain": [
       "<Figure size 1200x600 with 2 Axes>"
      ]
     },
     "metadata": {},
     "output_type": "display_data"
    }
   ],
   "source": [
    "# Define data for the first chart\n",
    "b_width1 = 0.3\n",
    "bar1 = losses['loss']\n",
    "x1 = np.arange(len(bar1))\n",
    "\n",
    "# Define data for the second chart\n",
    "b_width2 = 0.2\n",
    "bar1_metrics = metrics['accuracy']\n",
    "bar2_metrics = metrics['f1']\n",
    "x2 = np.arange(len(bar1_metrics))\n",
    "x3 = x2 + b_width2\n",
    "\n",
    "# Create 1x2 grid of subplots\n",
    "fig, (ax1, ax2) = plt.subplots(1, 2, figsize=(12, 6), dpi=100)\n",
    "\n",
    "# Plot the first chart (Loss values) on ax1\n",
    "ax1.bar(x1, bar1, width=b_width1, edgecolor='white', label='Loss')\n",
    "ax1.set_xticks(x1)\n",
    "ax1.set_xticklabels(['Training 1', 'Training 2', 'Eval: Train', 'Eval: Test', 'Random Chance'])\n",
    "ax1.set_title('Loss values')\n",
    "\n",
    "# Plot the second chart (Accuracy and F1 metrics) on ax2\n",
    "ax2.bar(x2, bar1_metrics, width=b_width2, edgecolor='white', label='Accuracy')\n",
    "ax2.bar(x3, bar2_metrics, width=b_width2, edgecolor='white', label='F1')\n",
    "ax2.set_xticks(x2)\n",
    "ax2.set_xticklabels(['Eval: Train', 'Eval: Test', 'Random Chance'])\n",
    "ax2.legend()\n",
    "ax2.set_title('Training Evaluation Metrics')\n",
    "\n",
    "plt.tight_layout()\n",
    "\n",
    "plt.savefig('charts/training_evals.png',bbox_inches='tight')"
   ]
  }
 ],
 "metadata": {
  "kernelspec": {
   "display_name": "base",
   "language": "python",
   "name": "python3"
  },
  "language_info": {
   "codemirror_mode": {
    "name": "ipython",
    "version": 3
   },
   "file_extension": ".py",
   "mimetype": "text/x-python",
   "name": "python",
   "nbconvert_exporter": "python",
   "pygments_lexer": "ipython3",
   "version": "3.12.3"
  },
  "orig_nbformat": 4
 },
 "nbformat": 4,
 "nbformat_minor": 2
}
