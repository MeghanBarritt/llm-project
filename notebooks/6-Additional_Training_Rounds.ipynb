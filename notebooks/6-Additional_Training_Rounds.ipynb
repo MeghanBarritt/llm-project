{
 "cells": [
  {
   "cell_type": "markdown",
   "metadata": {},
   "source": [
    "# 6 - Additional Training Rounds<p>"
   ]
  },
  {
   "cell_type": "code",
   "execution_count": 1,
   "metadata": {},
   "outputs": [],
   "source": [
    "from datasets import DatasetDict\n",
    "ds_7 = DatasetDict.load_from_disk('pickles/7_labels_folder')\n",
    "ds_20 = DatasetDict.load_from_disk('pickles/20_labels_folder')\n",
    "from transformers import DistilBertTokenizerFast, DistilBertForSequenceClassification"
   ]
  },
  {
   "cell_type": "code",
   "execution_count": 2,
   "metadata": {},
   "outputs": [
    {
     "name": "stderr",
     "output_type": "stream",
     "text": [
      "Some weights of DistilBertForSequenceClassification were not initialized from the model checkpoint at distilbert-base-uncased and are newly initialized: ['classifier.bias', 'classifier.weight', 'pre_classifier.bias', 'pre_classifier.weight']\n",
      "You should probably TRAIN this model on a down-stream task to be able to use it for predictions and inference.\n",
      "Some weights of DistilBertForSequenceClassification were not initialized from the model checkpoint at distilbert-base-uncased and are newly initialized: ['classifier.bias', 'classifier.weight', 'pre_classifier.bias', 'pre_classifier.weight']\n",
      "You should probably TRAIN this model on a down-stream task to be able to use it for predictions and inference.\n"
     ]
    }
   ],
   "source": [
    "model_name = \"distilbert-base-uncased\"\n",
    "tokenizer = DistilBertTokenizerFast.from_pretrained(model_name)\n",
    "model_7 = DistilBertForSequenceClassification.from_pretrained(model_name,num_labels=7)\n",
    "model_20 = DistilBertForSequenceClassification.from_pretrained(model_name,num_labels=20)"
   ]
  },
  {
   "cell_type": "code",
   "execution_count": 3,
   "metadata": {},
   "outputs": [],
   "source": [
    "def tokenize_7(batch):\n",
    "    return tokenizer(batch['no_stopword'], return_tensors='pt', truncation=True, padding=True)"
   ]
  },
  {
   "cell_type": "code",
   "execution_count": 4,
   "metadata": {},
   "outputs": [],
   "source": [
    "def tokenize_20(batch):\n",
    "    return tokenizer(batch['processed'], return_tensors='pt', truncation=True, padding=True)"
   ]
  },
  {
   "cell_type": "code",
   "execution_count": 5,
   "metadata": {},
   "outputs": [
    {
     "data": {
      "application/vnd.jupyter.widget-view+json": {
       "model_id": "f8bd3678b9c14c89a10f882f25be75d7",
       "version_major": 2,
       "version_minor": 0
      },
      "text/plain": [
       "Map:   0%|          | 0/7532 [00:00<?, ? examples/s]"
      ]
     },
     "metadata": {},
     "output_type": "display_data"
    }
   ],
   "source": [
    "tokens_train_7 = ds_7['train'].map(tokenize_7, batched=True)\n",
    "tokens_test_7 = ds_7['test'].map(tokenize_7, batched=True)"
   ]
  },
  {
   "cell_type": "code",
   "execution_count": 6,
   "metadata": {},
   "outputs": [],
   "source": [
    "tokens_train_20 = ds_20['train'].map(tokenize_20, batched=True)\n",
    "tokens_test_20 = ds_20['test'].map(tokenize_20, batched=True)"
   ]
  },
  {
   "cell_type": "code",
   "execution_count": 7,
   "metadata": {},
   "outputs": [],
   "source": [
    "import evaluate\n",
    "import numpy as np\n",
    "from transformers import DataCollatorWithPadding\n",
    "data_collator = DataCollatorWithPadding(tokenizer=tokenizer)\n",
    "from transformers import TrainingArguments, Trainer"
   ]
  },
  {
   "cell_type": "code",
   "execution_count": 8,
   "metadata": {},
   "outputs": [],
   "source": [
    "accuracy_metric = evaluate.load(\"accuracy\")\n",
    "f1_metric = evaluate.load(\"f1\")\n",
    "\n",
    "def compute_metrics(eval_pred):\n",
    "    logits, labels = eval_pred\n",
    "    predictions = np.argmax(logits, axis=-1)  # Get the predicted class labels\n",
    "    # Compute accuracy\n",
    "    accuracy = accuracy_metric.compute(predictions=predictions, references=labels)\n",
    "    # Compute F1 score\n",
    "    f1 = f1_metric.compute(predictions=predictions, references=labels, average='weighted')\n",
    "    # Return both metrics\n",
    "    return {\"accuracy\": accuracy[\"accuracy\"], \"f1\": f1[\"f1\"]}"
   ]
  },
  {
   "cell_type": "code",
   "execution_count": 9,
   "metadata": {},
   "outputs": [],
   "source": [
    "training_args_7 = TrainingArguments(\n",
    "    output_dir='multistep_7',\n",
    "    report_to='none',\n",
    "    learning_rate=2e-5,\n",
    "    per_device_train_batch_size=16,\n",
    "    per_device_eval_batch_size=16,\n",
    "    num_train_epochs=3)\n",
    "\n",
    "trainer_7 = Trainer(\n",
    "   model=model_7,\n",
    "   args=training_args_7,\n",
    "   train_dataset=tokens_train_7,\n",
    "   eval_dataset=tokens_test_7,\n",
    "   tokenizer=tokenizer,\n",
    "   data_collator=data_collator,\n",
    "   compute_metrics=compute_metrics)"
   ]
  },
  {
   "cell_type": "code",
   "execution_count": 10,
   "metadata": {},
   "outputs": [],
   "source": [
    "training_args_20 = TrainingArguments(\n",
    "    output_dir='multistep_20',\n",
    "    report_to='none',\n",
    "    learning_rate=2e-5,\n",
    "    per_device_train_batch_size=16,\n",
    "    per_device_eval_batch_size=16,\n",
    "    num_train_epochs=4)\n",
    "\n",
    "trainer_20 = Trainer(\n",
    "   model=model_20,\n",
    "   args=training_args_20,\n",
    "   train_dataset=tokens_train_20,\n",
    "   eval_dataset=tokens_test_20,\n",
    "   tokenizer=tokenizer,\n",
    "   data_collator=data_collator,\n",
    "   compute_metrics=compute_metrics)"
   ]
  },
  {
   "cell_type": "code",
   "execution_count": 11,
   "metadata": {},
   "outputs": [
    {
     "data": {
      "application/vnd.jupyter.widget-view+json": {
       "model_id": "cdba823fa39b465fa384455451c028f5",
       "version_major": 2,
       "version_minor": 0
      },
      "text/plain": [
       "  0%|          | 0/2124 [00:00<?, ?it/s]"
      ]
     },
     "metadata": {},
     "output_type": "display_data"
    },
    {
     "name": "stdout",
     "output_type": "stream",
     "text": [
      "{'loss': 0.8526, 'grad_norm': 6.713099956512451, 'learning_rate': 1.529190207156309e-05, 'epoch': 0.71}\n",
      "{'loss': 0.5135, 'grad_norm': 12.343777656555176, 'learning_rate': 1.0583804143126177e-05, 'epoch': 1.41}\n",
      "{'loss': 0.4194, 'grad_norm': 12.529735565185547, 'learning_rate': 5.8757062146892665e-06, 'epoch': 2.12}\n",
      "{'loss': 0.3201, 'grad_norm': 6.473957061767578, 'learning_rate': 1.167608286252354e-06, 'epoch': 2.82}\n",
      "{'train_runtime': 857.5528, 'train_samples_per_second': 39.58, 'train_steps_per_second': 2.477, 'train_loss': 0.5134276751071046, 'epoch': 3.0}\n"
     ]
    },
    {
     "data": {
      "text/plain": [
       "TrainOutput(global_step=2124, training_loss=0.5134276751071046, metrics={'train_runtime': 857.5528, 'train_samples_per_second': 39.58, 'train_steps_per_second': 2.477, 'total_flos': 4496609362655232.0, 'train_loss': 0.5134276751071046, 'epoch': 3.0})"
      ]
     },
     "execution_count": 11,
     "metadata": {},
     "output_type": "execute_result"
    }
   ],
   "source": [
    "trainer_7.train()"
   ]
  },
  {
   "cell_type": "code",
   "execution_count": 12,
   "metadata": {},
   "outputs": [
    {
     "data": {
      "application/vnd.jupyter.widget-view+json": {
       "model_id": "396d26720864470cacb90639a3bb6a6f",
       "version_major": 2,
       "version_minor": 0
      },
      "text/plain": [
       "  0%|          | 0/708 [00:00<?, ?it/s]"
      ]
     },
     "metadata": {},
     "output_type": "display_data"
    },
    {
     "data": {
      "application/vnd.jupyter.widget-view+json": {
       "model_id": "efd72cb3a3e247b987d28ffa17abc174",
       "version_major": 2,
       "version_minor": 0
      },
      "text/plain": [
       "  0%|          | 0/471 [00:00<?, ?it/s]"
      ]
     },
     "metadata": {},
     "output_type": "display_data"
    }
   ],
   "source": [
    "results_train_7 = trainer_7.evaluate(eval_dataset=tokens_train_7)\n",
    "results_test_7 = trainer_7.evaluate(eval_dataset=tokens_test_7)"
   ]
  },
  {
   "cell_type": "code",
   "execution_count": 13,
   "metadata": {},
   "outputs": [
    {
     "name": "stdout",
     "output_type": "stream",
     "text": [
      "Training Evaluation Results: {'eval_loss': 0.2505316436290741, 'eval_accuracy': 0.9185080431324023, 'eval_f1': 0.9181996735015227, 'eval_runtime': 98.8073, 'eval_samples_per_second': 114.506, 'eval_steps_per_second': 7.165, 'epoch': 3.0}\n",
      "Test Evaluation Results: {'eval_loss': 0.5992799401283264, 'eval_accuracy': 0.8088157195963888, 'eval_f1': 0.8076362184413346, 'eval_runtime': 65.7366, 'eval_samples_per_second': 114.579, 'eval_steps_per_second': 7.165, 'epoch': 3.0}\n"
     ]
    }
   ],
   "source": [
    "print(\"Training Evaluation Results:\", results_train_7)\n",
    "print(\"Test Evaluation Results:\", results_test_7)"
   ]
  },
  {
   "cell_type": "code",
   "execution_count": 29,
   "metadata": {},
   "outputs": [],
   "source": [
    "import torch\n",
    "import pandas as pd\n",
    "import matplotlib.pyplot as plt"
   ]
  },
  {
   "cell_type": "code",
   "execution_count": 22,
   "metadata": {},
   "outputs": [],
   "source": [
    "texts_7 = ds_7['test']['no_stopword']\n",
    "\n",
    "device = torch.device('cuda' if torch.cuda.is_available() else 'cpu')\n",
    "model_7.to(device)\n",
    "batch_size = 8"
   ]
  },
  {
   "cell_type": "code",
   "execution_count": 25,
   "metadata": {},
   "outputs": [],
   "source": [
    "def predict_in_batches_7(texts, batch_size):\n",
    "    predictions = []\n",
    "    # Iterate over texts in smaller batches\n",
    "    for i in range(0, len(texts), batch_size):\n",
    "        batch = texts[i:i+batch_size]\n",
    "        \n",
    "        # Tokenize the batch\n",
    "        inputs = tokenizer(batch, return_tensors='pt', padding=True, truncation=True, max_length=512)\n",
    "        \n",
    "        # Move inputs to the same device as the model\n",
    "        inputs = {key: value.to(device) for key, value in inputs.items()}\n",
    "\n",
    "        # Make predictions\n",
    "        with torch.no_grad():  # no need to compute gradients\n",
    "            outputs = model_7(**inputs)\n",
    "\n",
    "        # Get predicted classes\n",
    "        logits = outputs.logits\n",
    "        predicted_classes = torch.argmax(logits, dim=-1).cpu().numpy()\n",
    "        \n",
    "        predictions.extend(predicted_classes)\n",
    "\n",
    "    return predictions"
   ]
  },
  {
   "cell_type": "code",
   "execution_count": 27,
   "metadata": {},
   "outputs": [],
   "source": [
    "data_7 = pd.DataFrame(ds_7['test'])\n",
    "predicted_7 = predict_in_batches_7(texts_7, batch_size)\n",
    "data_7['predicted'] = predicted_7"
   ]
  },
  {
   "cell_type": "code",
   "execution_count": 31,
   "metadata": {},
   "outputs": [
    {
     "data": {
      "text/plain": [
       "([], [])"
      ]
     },
     "execution_count": 31,
     "metadata": {},
     "output_type": "execute_result"
    },
    {
     "data": {
      "image/png": "[encoded data removed]",
      "text/plain": [
       "<Figure size 640x480 with 1 Axes>"
      ]
     },
     "metadata": {},
     "output_type": "display_data"
    }
   ],
   "source": [
    "plt.hist(data_7['label'],bins=7,color='blue',alpha=0.65,label='actual label')\n",
    "plt.hist(data_7['predicted'],bins=7,color='red',alpha=0.6,label='predicted label')\n",
    "plt.legend()\n",
    "plt.title('Trained model predictions')\n",
    "plt.xticks([])\n",
    "\n",
    "# plt.savefig('charts/preds_multistep_7.png',bbox_inches='tight')"
   ]
  },
  {
   "cell_type": "markdown",
   "metadata": {},
   "source": [
    "**Evals**:<br>\n",
    "Training:<ul>\n",
    "accuracy: 0.919<br>\n",
    "f1: 0.918</ul>\n",
    "\n",
    "Test:<ul>\n",
    "accuracy: 0.809<br>\n",
    "f1: 0.808</ul>\n",
    "\n",
    "Random Chance:<ul>\n",
    "accuracy/f1: 0.14"
   ]
  },
  {
   "cell_type": "code",
   "execution_count": 32,
   "metadata": {},
   "outputs": [
    {
     "data": {
      "text/html": [
       "<div>\n",
       "<style scoped>\n",
       "    .dataframe tbody tr th:only-of-type {\n",
       "        vertical-align: middle;\n",
       "    }\n",
       "\n",
       "    .dataframe tbody tr th {\n",
       "        vertical-align: top;\n",
       "    }\n",
       "\n",
       "    .dataframe thead th {\n",
       "        text-align: right;\n",
       "    }\n",
       "</style>\n",
       "<table border=\"1\" class=\"dataframe\">\n",
       "  <thead>\n",
       "    <tr style=\"text-align: right;\">\n",
       "      <th></th>\n",
       "      <th>accuracy</th>\n",
       "      <th>f1</th>\n",
       "    </tr>\n",
       "  </thead>\n",
       "  <tbody>\n",
       "    <tr>\n",
       "      <th>training</th>\n",
       "      <td>0.919</td>\n",
       "      <td>0.918</td>\n",
       "    </tr>\n",
       "    <tr>\n",
       "      <th>test</th>\n",
       "      <td>0.809</td>\n",
       "      <td>0.808</td>\n",
       "    </tr>\n",
       "    <tr>\n",
       "      <th>random chance</th>\n",
       "      <td>0.140</td>\n",
       "      <td>0.140</td>\n",
       "    </tr>\n",
       "  </tbody>\n",
       "</table>\n",
       "</div>"
      ],
      "text/plain": [
       "               accuracy     f1\n",
       "training          0.919  0.918\n",
       "test              0.809  0.808\n",
       "random chance     0.140  0.140"
      ]
     },
     "execution_count": 32,
     "metadata": {},
     "output_type": "execute_result"
    }
   ],
   "source": [
    "evals_7 = {'training':[0.919,0.918],'test':[0.809,0.808],'random chance':[0.14,0.14]}\n",
    "metrics_7 = pd.DataFrame.from_dict(evals_7,orient='index',columns=['accuracy','f1'])\n",
    "metrics_7"
   ]
  },
  {
   "cell_type": "markdown",
   "metadata": {},
   "source": [
    "**Loss values**:<ul>\n",
    "trainer 1: 0.8526<br>\n",
    "trainer 2: 0.5135<br>\n",
    "trainer 3: 0.4194<br>\n",
    "trainer 4: 0.3201<br>\n",
    "eval_train: 0.2505<br>\n",
    "eval_test: 0.5993<br>\n",
    "chance: 1.95<br>\n"
   ]
  },
  {
   "cell_type": "code",
   "execution_count": 33,
   "metadata": {},
   "outputs": [
    {
     "data": {
      "text/html": [
       "<div>\n",
       "<style scoped>\n",
       "    .dataframe tbody tr th:only-of-type {\n",
       "        vertical-align: middle;\n",
       "    }\n",
       "\n",
       "    .dataframe tbody tr th {\n",
       "        vertical-align: top;\n",
       "    }\n",
       "\n",
       "    .dataframe thead th {\n",
       "        text-align: right;\n",
       "    }\n",
       "</style>\n",
       "<table border=\"1\" class=\"dataframe\">\n",
       "  <thead>\n",
       "    <tr style=\"text-align: right;\">\n",
       "      <th></th>\n",
       "      <th>loss</th>\n",
       "    </tr>\n",
       "  </thead>\n",
       "  <tbody>\n",
       "    <tr>\n",
       "      <th>trainer1</th>\n",
       "      <td>0.8526</td>\n",
       "    </tr>\n",
       "    <tr>\n",
       "      <th>trainer2</th>\n",
       "      <td>0.5135</td>\n",
       "    </tr>\n",
       "    <tr>\n",
       "      <th>trainer3</th>\n",
       "      <td>0.4194</td>\n",
       "    </tr>\n",
       "    <tr>\n",
       "      <th>trainer4</th>\n",
       "      <td>0.3201</td>\n",
       "    </tr>\n",
       "    <tr>\n",
       "      <th>eval_train</th>\n",
       "      <td>0.2505</td>\n",
       "    </tr>\n",
       "    <tr>\n",
       "      <th>eval_test</th>\n",
       "      <td>0.5993</td>\n",
       "    </tr>\n",
       "    <tr>\n",
       "      <th>chance</th>\n",
       "      <td>1.9500</td>\n",
       "    </tr>\n",
       "  </tbody>\n",
       "</table>\n",
       "</div>"
      ],
      "text/plain": [
       "              loss\n",
       "trainer1    0.8526\n",
       "trainer2    0.5135\n",
       "trainer3    0.4194\n",
       "trainer4    0.3201\n",
       "eval_train  0.2505\n",
       "eval_test   0.5993\n",
       "chance      1.9500"
      ]
     },
     "execution_count": 33,
     "metadata": {},
     "output_type": "execute_result"
    }
   ],
   "source": [
    "data_7 = {'trainer1':[0.8526],'trainer2':[0.5135],'trainer3':[0.4194],'trainer4':[0.3201],'eval_train':[0.2505],'eval_test':[0.5993],'chance':[1.95]}\n",
    "losses_7 = pd.DataFrame.from_dict(data_7,orient='index',columns=['loss'])\n",
    "losses_7"
   ]
  },
  {
   "cell_type": "code",
   "execution_count": null,
   "metadata": {},
   "outputs": [],
   "source": []
  },
  {
   "cell_type": "code",
   "execution_count": 14,
   "metadata": {},
   "outputs": [],
   "source": [
    "# trainer_20.train()\n",
    "\n",
    "# results_train_20 = trainer_20.evaluate(eval_dataset=tokens_train_20)\n",
    "# results_test_20 = trainer_20.evaluate(eval_dataset=tokens_test_20)\n",
    "\n",
    "# print(\"Training Evaluation Results:\", results_train_20)\n",
    "# print(\"Test Evaluation Results:\", results_test_20)"
   ]
  },
  {
   "cell_type": "code",
   "execution_count": null,
   "metadata": {},
   "outputs": [],
   "source": [
    "# texts_20 = ds_20['test']['processed']\n",
    "\n",
    "# device = torch.device('cuda' if torch.cuda.is_available() else 'cpu')\n",
    "# model_20.to(device)\n",
    "# batch_size = 8"
   ]
  },
  {
   "cell_type": "code",
   "execution_count": null,
   "metadata": {},
   "outputs": [],
   "source": [
    "# def predict_in_batches_20(texts, batch_size):\n",
    "#     predictions = []\n",
    "#     # Iterate over texts in smaller batches\n",
    "#     for i in range(0, len(texts), batch_size):\n",
    "#         batch = texts[i:i+batch_size]\n",
    "        \n",
    "#         # Tokenize the batch\n",
    "#         inputs = tokenizer(batch, return_tensors='pt', padding=True, truncation=True, max_length=512)\n",
    "        \n",
    "#         # Move inputs to the same device as the model\n",
    "#         inputs = {key: value.to(device) for key, value in inputs.items()}\n",
    "\n",
    "#         # Make predictions\n",
    "#         with torch.no_grad():  # no need to compute gradients\n",
    "#             outputs = model_20(**inputs)\n",
    "\n",
    "#         # Get predicted classes\n",
    "#         logits = outputs.logits\n",
    "#         predicted_classes = torch.argmax(logits, dim=-1).cpu().numpy()\n",
    "        \n",
    "#         predictions.extend(predicted_classes)\n",
    "\n",
    "#     return predictions"
   ]
  },
  {
   "cell_type": "code",
   "execution_count": null,
   "metadata": {},
   "outputs": [],
   "source": [
    "# data_20 = pd.DataFrame(ds_20['test'])\n",
    "# predicted_20 = predict_in_batches_20(texts_20, batch_size)\n",
    "# data_20['predicted'] = predicted_20"
   ]
  }
 ],
 "metadata": {
  "kernelspec": {
   "display_name": "base",
   "language": "python",
   "name": "python3"
  },
  "language_info": {
   "codemirror_mode": {
    "name": "ipython",
    "version": 3
   },
   "file_extension": ".py",
   "mimetype": "text/x-python",
   "name": "python",
   "nbconvert_exporter": "python",
   "pygments_lexer": "ipython3",
   "version": "3.12.3"
  }
 },
 "nbformat": 4,
 "nbformat_minor": 2
}
