{
 "cells": [
  {
   "cell_type": "markdown",
   "metadata": {},
   "source": [
    "# 6 - Additional Training Rounds<p>"
   ]
  },
  {
   "cell_type": "code",
   "execution_count": 1,
   "metadata": {},
   "outputs": [],
   "source": [
    "from datasets import DatasetDict\n",
    "ds_7 = DatasetDict.load_from_disk('pickles/7_labels_folder')\n",
    "ds_20 = DatasetDict.load_from_disk('pickles/20_labels_folder')\n",
    "from transformers import DistilBertTokenizerFast, DistilBertForSequenceClassification"
   ]
  },
  {
   "cell_type": "markdown",
   "metadata": {},
   "source": [
    "I'm going to run additional rounds of training on both versions of the model (7 labels and 20 labels) to see how the performance improves, starting with the simplified 7 labels. Aside from changing the number of epochs, everything else is going to be the same. <p>\n",
    "### 7 Labels"
   ]
  },
  {
   "cell_type": "code",
   "execution_count": 2,
   "metadata": {},
   "outputs": [
    {
     "name": "stderr",
     "output_type": "stream",
     "text": [
      "Some weights of DistilBertForSequenceClassification were not initialized from the model checkpoint at distilbert-base-uncased and are newly initialized: ['classifier.bias', 'classifier.weight', 'pre_classifier.bias', 'pre_classifier.weight']\n",
      "You should probably TRAIN this model on a down-stream task to be able to use it for predictions and inference.\n"
     ]
    }
   ],
   "source": [
    "model_name = \"distilbert-base-uncased\"\n",
    "tokenizer = DistilBertTokenizerFast.from_pretrained(model_name)\n",
    "model_7 = DistilBertForSequenceClassification.from_pretrained(model_name,num_labels=7)"
   ]
  },
  {
   "cell_type": "code",
   "execution_count": 3,
   "metadata": {},
   "outputs": [],
   "source": [
    "def tokenize_7(batch):\n",
    "    return tokenizer(batch['no_stopword'], return_tensors='pt', truncation=True, padding=True)"
   ]
  },
  {
   "cell_type": "code",
   "execution_count": 4,
   "metadata": {},
   "outputs": [],
   "source": [
    "tokens_train_7 = ds_7['train'].map(tokenize_7, batched=True)\n",
    "tokens_test_7 = ds_7['test'].map(tokenize_7, batched=True)"
   ]
  },
  {
   "cell_type": "code",
   "execution_count": 5,
   "metadata": {},
   "outputs": [],
   "source": [
    "import evaluate\n",
    "import numpy as np\n",
    "from transformers import DataCollatorWithPadding\n",
    "data_collator = DataCollatorWithPadding(tokenizer=tokenizer)\n",
    "from transformers import TrainingArguments, Trainer"
   ]
  },
  {
   "cell_type": "code",
   "execution_count": 6,
   "metadata": {},
   "outputs": [],
   "source": [
    "accuracy_metric = evaluate.load(\"accuracy\")\n",
    "f1_metric = evaluate.load(\"f1\")\n",
    "\n",
    "def compute_metrics(eval_pred):\n",
    "    logits, labels = eval_pred\n",
    "    predictions = np.argmax(logits, axis=-1)  # Get the predicted class labels\n",
    "    # Compute accuracy\n",
    "    accuracy = accuracy_metric.compute(predictions=predictions, references=labels)\n",
    "    # Compute F1 score\n",
    "    f1 = f1_metric.compute(predictions=predictions, references=labels, average='weighted')\n",
    "    # Return both metrics\n",
    "    return {\"accuracy\": accuracy[\"accuracy\"], \"f1\": f1[\"f1\"]}"
   ]
  },
  {
   "cell_type": "markdown",
   "metadata": {},
   "source": [
    "Some research showed that for this model, training is often done with 3-4 rounds. I tried both, and found that there is the highest increase in performance at 3 epochs, but still some increase at four, which is what I have below. "
   ]
  },
  {
   "cell_type": "code",
   "execution_count": 7,
   "metadata": {},
   "outputs": [],
   "source": [
    "training_args_7 = TrainingArguments(\n",
    "    output_dir='multistep_7',\n",
    "    report_to='none',\n",
    "    learning_rate=2e-5,\n",
    "    per_device_train_batch_size=16,\n",
    "    per_device_eval_batch_size=16,\n",
    "    num_train_epochs=4)\n",
    "\n",
    "trainer_7 = Trainer(\n",
    "   model=model_7,\n",
    "   args=training_args_7,\n",
    "   train_dataset=tokens_train_7,\n",
    "   eval_dataset=tokens_test_7,\n",
    "   tokenizer=tokenizer,\n",
    "   data_collator=data_collator,\n",
    "   compute_metrics=compute_metrics)"
   ]
  },
  {
   "cell_type": "code",
   "execution_count": 8,
   "metadata": {},
   "outputs": [
    {
     "data": {
      "application/vnd.jupyter.widget-view+json": {
       "model_id": "3ba2296631ea498e8f3f07eb1ef8de81",
       "version_major": 2,
       "version_minor": 0
      },
      "text/plain": [
       "  0%|          | 0/2832 [00:00<?, ?it/s]"
      ]
     },
     "metadata": {},
     "output_type": "display_data"
    },
    {
     "name": "stdout",
     "output_type": "stream",
     "text": [
      "{'loss': 0.8508, 'grad_norm': 6.945952892303467, 'learning_rate': 1.6468926553672317e-05, 'epoch': 0.71}\n",
      "{'loss': 0.5097, 'grad_norm': 10.3526029586792, 'learning_rate': 1.2937853107344633e-05, 'epoch': 1.41}\n",
      "{'loss': 0.4101, 'grad_norm': 12.729840278625488, 'learning_rate': 9.40677966101695e-06, 'epoch': 2.12}\n",
      "{'loss': 0.2954, 'grad_norm': 5.795869827270508, 'learning_rate': 5.8757062146892665e-06, 'epoch': 2.82}\n",
      "{'loss': 0.238, 'grad_norm': 3.572582244873047, 'learning_rate': 2.344632768361582e-06, 'epoch': 3.53}\n",
      "{'train_runtime': 1139.4358, 'train_samples_per_second': 39.718, 'train_steps_per_second': 2.485, 'train_loss': 0.43085842886887027, 'epoch': 4.0}\n"
     ]
    },
    {
     "data": {
      "text/plain": [
       "TrainOutput(global_step=2832, training_loss=0.43085842886887027, metrics={'train_runtime': 1139.4358, 'train_samples_per_second': 39.718, 'train_steps_per_second': 2.485, 'total_flos': 5995479150206976.0, 'train_loss': 0.43085842886887027, 'epoch': 4.0})"
      ]
     },
     "execution_count": 8,
     "metadata": {},
     "output_type": "execute_result"
    }
   ],
   "source": [
    "trainer_7.train()"
   ]
  },
  {
   "cell_type": "code",
   "execution_count": 9,
   "metadata": {},
   "outputs": [
    {
     "data": {
      "application/vnd.jupyter.widget-view+json": {
       "model_id": "7115fc479b524a9687ceeded4bebd446",
       "version_major": 2,
       "version_minor": 0
      },
      "text/plain": [
       "  0%|          | 0/708 [00:00<?, ?it/s]"
      ]
     },
     "metadata": {},
     "output_type": "display_data"
    },
    {
     "data": {
      "application/vnd.jupyter.widget-view+json": {
       "model_id": "8b9fd1e20fbd4da49157ab0f6060dfb8",
       "version_major": 2,
       "version_minor": 0
      },
      "text/plain": [
       "  0%|          | 0/471 [00:00<?, ?it/s]"
      ]
     },
     "metadata": {},
     "output_type": "display_data"
    }
   ],
   "source": [
    "results_train_7 = trainer_7.evaluate(eval_dataset=tokens_train_7)\n",
    "results_test_7 = trainer_7.evaluate(eval_dataset=tokens_test_7)"
   ]
  },
  {
   "cell_type": "code",
   "execution_count": 10,
   "metadata": {},
   "outputs": [
    {
     "name": "stdout",
     "output_type": "stream",
     "text": [
      "Training Evaluation Results: {'eval_loss': 0.16409657895565033, 'eval_accuracy': 0.9481173767014318, 'eval_f1': 0.9482351012978927, 'eval_runtime': 99.2844, 'eval_samples_per_second': 113.955, 'eval_steps_per_second': 7.131, 'epoch': 4.0}\n",
      "Test Evaluation Results: {'eval_loss': 0.6538137793540955, 'eval_accuracy': 0.8081518852894317, 'eval_f1': 0.8075501239315505, 'eval_runtime': 66.4836, 'eval_samples_per_second': 113.291, 'eval_steps_per_second': 7.084, 'epoch': 4.0}\n"
     ]
    }
   ],
   "source": [
    "print(\"Training Evaluation Results:\", results_train_7)\n",
    "print(\"Test Evaluation Results:\", results_test_7)"
   ]
  },
  {
   "cell_type": "markdown",
   "metadata": {},
   "source": [
    "Graphing the results:"
   ]
  },
  {
   "cell_type": "code",
   "execution_count": 11,
   "metadata": {},
   "outputs": [],
   "source": [
    "import torch\n",
    "import pandas as pd\n",
    "import matplotlib.pyplot as plt"
   ]
  },
  {
   "cell_type": "code",
   "execution_count": 12,
   "metadata": {},
   "outputs": [],
   "source": [
    "texts_7 = ds_7['test']['no_stopword']\n",
    "\n",
    "device = torch.device('cuda' if torch.cuda.is_available() else 'cpu')\n",
    "model_7.to(device)\n",
    "batch_size = 8"
   ]
  },
  {
   "cell_type": "code",
   "execution_count": 13,
   "metadata": {},
   "outputs": [],
   "source": [
    "def predict_in_batches_7(texts, batch_size):\n",
    "    predictions = []\n",
    "    # Iterate over texts in smaller batches\n",
    "    for i in range(0, len(texts), batch_size):\n",
    "        batch = texts[i:i+batch_size]\n",
    "        \n",
    "        # Tokenize the batch\n",
    "        inputs = tokenizer(batch, return_tensors='pt', padding=True, truncation=True, max_length=512)\n",
    "        \n",
    "        # Move inputs to the same device as the model\n",
    "        inputs = {key: value.to(device) for key, value in inputs.items()}\n",
    "\n",
    "        # Make predictions\n",
    "        with torch.no_grad():  # no need to compute gradients\n",
    "            outputs = model_7(**inputs)\n",
    "\n",
    "        # Get predicted classes\n",
    "        logits = outputs.logits\n",
    "        predicted_classes = torch.argmax(logits, dim=-1).cpu().numpy()\n",
    "        \n",
    "        predictions.extend(predicted_classes)\n",
    "\n",
    "    return predictions"
   ]
  },
  {
   "cell_type": "code",
   "execution_count": 14,
   "metadata": {},
   "outputs": [],
   "source": [
    "data_7 = pd.DataFrame(ds_7['test'])\n",
    "predicted_7 = predict_in_batches_7(texts_7, batch_size)\n",
    "data_7['predicted'] = predicted_7"
   ]
  },
  {
   "cell_type": "code",
   "execution_count": 57,
   "metadata": {},
   "outputs": [
    {
     "data": {
      "image/png": "[encoded data removed]",
      "text/plain": [
       "<Figure size 640x480 with 1 Axes>"
      ]
     },
     "metadata": {},
     "output_type": "display_data"
    }
   ],
   "source": [
    "plt.hist(data_7['label'],bins=7,color='blue',alpha=0.65,label='actual label')\n",
    "plt.hist(data_7['predicted'],bins=7,color='red',alpha=0.6,label='predicted label')\n",
    "plt.legend()\n",
    "plt.title('Trained model predictions,\\n 4 epochs, 7 labels')\n",
    "plt.xticks([])\n",
    "\n",
    "plt.savefig('charts/preds_multistep_7.png',bbox_inches='tight')"
   ]
  },
  {
   "cell_type": "markdown",
   "metadata": {},
   "source": [
    "**Evals**:<br>\n",
    "Training:<ul>\n",
    "accuracy: 0.948<br>\n",
    "f1: 0.948</ul>\n",
    "\n",
    "Test:<ul>\n",
    "accuracy: 0.808<br>\n",
    "f1: 0.808</ul>\n",
    "\n",
    "Random Chance:<ul>\n",
    "accuracy/f1: 0.14"
   ]
  },
  {
   "cell_type": "code",
   "execution_count": 32,
   "metadata": {},
   "outputs": [
    {
     "data": {
      "text/html": [
       "<div>\n",
       "<style scoped>\n",
       "    .dataframe tbody tr th:only-of-type {\n",
       "        vertical-align: middle;\n",
       "    }\n",
       "\n",
       "    .dataframe tbody tr th {\n",
       "        vertical-align: top;\n",
       "    }\n",
       "\n",
       "    .dataframe thead th {\n",
       "        text-align: right;\n",
       "    }\n",
       "</style>\n",
       "<table border=\"1\" class=\"dataframe\">\n",
       "  <thead>\n",
       "    <tr style=\"text-align: right;\">\n",
       "      <th></th>\n",
       "      <th>accuracy</th>\n",
       "      <th>f1</th>\n",
       "    </tr>\n",
       "  </thead>\n",
       "  <tbody>\n",
       "    <tr>\n",
       "      <th>training</th>\n",
       "      <td>0.948</td>\n",
       "      <td>0.948</td>\n",
       "    </tr>\n",
       "    <tr>\n",
       "      <th>test</th>\n",
       "      <td>0.808</td>\n",
       "      <td>0.808</td>\n",
       "    </tr>\n",
       "    <tr>\n",
       "      <th>random chance</th>\n",
       "      <td>0.140</td>\n",
       "      <td>0.140</td>\n",
       "    </tr>\n",
       "  </tbody>\n",
       "</table>\n",
       "</div>"
      ],
      "text/plain": [
       "               accuracy     f1\n",
       "training          0.948  0.948\n",
       "test              0.808  0.808\n",
       "random chance     0.140  0.140"
      ]
     },
     "execution_count": 32,
     "metadata": {},
     "output_type": "execute_result"
    }
   ],
   "source": [
    "evals_7 = {'training':[0.948,0.948],'test':[0.808,0.808],'random chance':[0.14,0.14]}\n",
    "metrics_7 = pd.DataFrame.from_dict(evals_7,orient='index',columns=['accuracy','f1'])\n",
    "metrics_7"
   ]
  },
  {
   "cell_type": "markdown",
   "metadata": {},
   "source": [
    "**Loss values**:<ul>\n",
    "trainer 1: 0.851<br>\n",
    "trainer 2: 0.510<br>\n",
    "trainer 3: 0.410<br>\n",
    "trainer 4: 0.295<br>\n",
    "trainer 5: 0.238<br>\n",
    "train_loss: 0.431<br>\n",
    "eval_train: 0.164<br>\n",
    "eval_test: 0.654<br>\n",
    "chance: 1.95"
   ]
  },
  {
   "cell_type": "code",
   "execution_count": 33,
   "metadata": {},
   "outputs": [
    {
     "data": {
      "text/html": [
       "<div>\n",
       "<style scoped>\n",
       "    .dataframe tbody tr th:only-of-type {\n",
       "        vertical-align: middle;\n",
       "    }\n",
       "\n",
       "    .dataframe tbody tr th {\n",
       "        vertical-align: top;\n",
       "    }\n",
       "\n",
       "    .dataframe thead th {\n",
       "        text-align: right;\n",
       "    }\n",
       "</style>\n",
       "<table border=\"1\" class=\"dataframe\">\n",
       "  <thead>\n",
       "    <tr style=\"text-align: right;\">\n",
       "      <th></th>\n",
       "      <th>loss</th>\n",
       "    </tr>\n",
       "  </thead>\n",
       "  <tbody>\n",
       "    <tr>\n",
       "      <th>trainer1</th>\n",
       "      <td>0.851</td>\n",
       "    </tr>\n",
       "    <tr>\n",
       "      <th>trainer2</th>\n",
       "      <td>0.510</td>\n",
       "    </tr>\n",
       "    <tr>\n",
       "      <th>trainer3</th>\n",
       "      <td>0.410</td>\n",
       "    </tr>\n",
       "    <tr>\n",
       "      <th>trainer4</th>\n",
       "      <td>0.295</td>\n",
       "    </tr>\n",
       "    <tr>\n",
       "      <th>trainer5</th>\n",
       "      <td>0.238</td>\n",
       "    </tr>\n",
       "    <tr>\n",
       "      <th>train_loss</th>\n",
       "      <td>0.431</td>\n",
       "    </tr>\n",
       "    <tr>\n",
       "      <th>eval_train</th>\n",
       "      <td>0.164</td>\n",
       "    </tr>\n",
       "    <tr>\n",
       "      <th>eval_test</th>\n",
       "      <td>0.654</td>\n",
       "    </tr>\n",
       "    <tr>\n",
       "      <th>chance</th>\n",
       "      <td>1.950</td>\n",
       "    </tr>\n",
       "  </tbody>\n",
       "</table>\n",
       "</div>"
      ],
      "text/plain": [
       "             loss\n",
       "trainer1    0.851\n",
       "trainer2    0.510\n",
       "trainer3    0.410\n",
       "trainer4    0.295\n",
       "trainer5    0.238\n",
       "train_loss  0.431\n",
       "eval_train  0.164\n",
       "eval_test   0.654\n",
       "chance      1.950"
      ]
     },
     "execution_count": 33,
     "metadata": {},
     "output_type": "execute_result"
    }
   ],
   "source": [
    "values_7 = {'trainer1':[0.851],'trainer2':[0.510],'trainer3':[0.410],'trainer4':[0.295], 'trainer5':[0.238], 'train_loss':[0.431],'eval_train':[0.164],'eval_test':[0.654],'chance':[1.95]}\n",
    "losses_7 = pd.DataFrame.from_dict(values_7,orient='index',columns=['loss'])\n",
    "losses_7"
   ]
  },
  {
   "cell_type": "code",
   "execution_count": 56,
   "metadata": {},
   "outputs": [
    {
     "data": {
      "image/png": "[encoded data removed]",
      "text/plain": [
       "<Figure size 1200x600 with 2 Axes>"
      ]
     },
     "metadata": {},
     "output_type": "display_data"
    }
   ],
   "source": [
    "# for 1st chart\n",
    "b_width1 = 0.45\n",
    "bar_1 = losses_7['loss']\n",
    "x_1 = np.arange(len(bar_1))\n",
    "\n",
    "# for 2nd chart\n",
    "b_width2 = 0.2\n",
    "bar1 = metrics_7['accuracy']\n",
    "bar2 = metrics_7['f1']\n",
    "x1 = np.arange(len(bar1))\n",
    "x2 = x1 + b_width2\n",
    "\n",
    "fig, (ax1, ax2) = plt.subplots(1, 2, figsize=(12, 6), dpi=100)\n",
    "\n",
    "# 1st chart\n",
    "ax1.bar(x_1,bar_1,width=b_width1, edgecolor='white')\n",
    "ax1.axhline(y=0.818,xmin=0.03,xmax=0.115,color='red',label='1 epoch model')\n",
    "ax1.axhline(y=0.806,xmin=0.56,xmax=0.65,color='red')\n",
    "ax1.axhline(y=0.521,xmin=0.67,xmax=0.76,color='red')\n",
    "ax1.axhline(y=0.632,xmin=0.78,xmax=0.865,color='red')\n",
    "ax1.set_xticks(x_1)\n",
    "ax1.set_xticks(x_1)\n",
    "ax1.set_xticklabels(['Training\\n 1', 'Training\\n 2', 'Training\\n 3', 'Training\\n 4', 'Training\\n 5', 'Train\\n Avg', 'Eval:\\n Train', 'Eval:\\n Test', 'Random\\n Chance'])\n",
    "ax1.set_title('Loss values')\n",
    "ax1.legend()\n",
    "\n",
    "# 2nd chart\n",
    "ax2.bar(x1,bar1,width=b_width2,edgecolor='white',label='Accuracy')\n",
    "ax2.bar(x2,bar2,width=b_width2,edgecolor='white',label='F1')\n",
    "ax2.axhline(y=0.818,xmin=0.035,xmax=0.13,color='red',label='1 epoch model')\n",
    "ax2.axhline(y=0.802,xmin=0.11,xmax=0.21,color='red')\n",
    "ax2.axhline(y=0.774,xmin=0.41,xmax=0.51,color='red')\n",
    "ax2.axhline(y=0.759,xmin=0.49,xmax=0.59,color='red')\n",
    "ax2.set_xticks(x1)\n",
    "ax2.set_xticklabels(['Eval: Train', 'Eval: Test', 'Random Chance'])\n",
    "ax2.legend()\n",
    "ax2.set_yticks(np.arange(0,1.1,0.1))\n",
    "ax2.set_title('Training Evaluation Metrics')\n",
    "\n",
    "plt.suptitle('Evaluation metrics;\\n 4 epochs, 7 labels ',fontsize=15)\n",
    "plt.tight_layout()\n",
    "\n",
    "plt.savefig('charts/evals_multistep_7.png',bbox_inches='tight')"
   ]
  },
  {
   "cell_type": "markdown",
   "metadata": {},
   "source": [
    "|Loss Value |1 Epoch|4 Epochs|Change|\n",
    "|-----------|------:|-------:|-----:|\n",
    "|Train Avg  |  0.806|   0.431|-0.375|\n",
    "|Eval: Train|  0.521|   0.164|-0.357|\n",
    "|Eval: Test |  0.632|   0.654|+0.022|\n",
    "<p>\n",
    "\n",
    "|Accuracy   |1 Epoch|4 Epochs|Change|\n",
    "|-----------|------:|-------:|-----:|\n",
    "|Eval: Train|  0.818|   0.948|+0.130|\n",
    "|Eval: Test |  0.774|   0.808|+0.034|\n",
    "<p>\n",
    "\n",
    "|F1         |1 Epoch|4 Epochs|Change|\n",
    "|-----------|------:|-------:|-----:|\n",
    "|Eval: Train|  0.802|   0.948|+0.146|\n",
    "|Eval: Test |  0.759|   0.808|+0.049|"
   ]
  },
  {
   "cell_type": "markdown",
   "metadata": {},
   "source": [
    "The fact that there is such a drop from the train to test implies some kind of overfitting, but the model's performance has still improved.<p>\n",
    "Repeat this process for the 20 labels model, and see if the same thing happens. <p>\n",
    "### 20 Labels"
   ]
  },
  {
   "cell_type": "code",
   "execution_count": 19,
   "metadata": {},
   "outputs": [
    {
     "name": "stderr",
     "output_type": "stream",
     "text": [
      "Some weights of DistilBertForSequenceClassification were not initialized from the model checkpoint at distilbert-base-uncased and are newly initialized: ['classifier.bias', 'classifier.weight', 'pre_classifier.bias', 'pre_classifier.weight']\n",
      "You should probably TRAIN this model on a down-stream task to be able to use it for predictions and inference.\n"
     ]
    }
   ],
   "source": [
    "model_20 = DistilBertForSequenceClassification.from_pretrained(model_name,num_labels=20)\n",
    "\n",
    "def tokenize_20(batch):\n",
    "    return tokenizer(batch['processed'], return_tensors='pt', truncation=True, padding=True)\n",
    "\n",
    "tokens_train_20 = ds_20['train'].map(tokenize_20, batched=True)\n",
    "tokens_test_20 = ds_20['test'].map(tokenize_20, batched=True)"
   ]
  },
  {
   "cell_type": "code",
   "execution_count": 20,
   "metadata": {},
   "outputs": [],
   "source": [
    "training_args_20 = TrainingArguments(\n",
    "    output_dir='multistep_20',\n",
    "    report_to='none',\n",
    "    learning_rate=2e-5,\n",
    "    per_device_train_batch_size=16,\n",
    "    per_device_eval_batch_size=16,\n",
    "    num_train_epochs=4)\n",
    "\n",
    "trainer_20 = Trainer(\n",
    "   model=model_20,\n",
    "   args=training_args_20,\n",
    "   train_dataset=tokens_train_20,\n",
    "   eval_dataset=tokens_test_20,\n",
    "   tokenizer=tokenizer,\n",
    "   data_collator=data_collator,\n",
    "   compute_metrics=compute_metrics)"
   ]
  },
  {
   "cell_type": "code",
   "execution_count": 21,
   "metadata": {},
   "outputs": [
    {
     "data": {
      "application/vnd.jupyter.widget-view+json": {
       "model_id": "a02370fc4d324fef9e9abae3b684ec40",
       "version_major": 2,
       "version_minor": 0
      },
      "text/plain": [
       "  0%|          | 0/2832 [00:00<?, ?it/s]"
      ]
     },
     "metadata": {},
     "output_type": "display_data"
    },
    {
     "name": "stdout",
     "output_type": "stream",
     "text": [
      "{'loss': 1.8727, 'grad_norm': 8.483327865600586, 'learning_rate': 1.6468926553672317e-05, 'epoch': 0.71}\n",
      "{'loss': 1.0541, 'grad_norm': 6.4842939376831055, 'learning_rate': 1.2937853107344633e-05, 'epoch': 1.41}\n",
      "{'loss': 0.8627, 'grad_norm': 9.605780601501465, 'learning_rate': 9.40677966101695e-06, 'epoch': 2.12}\n",
      "{'loss': 0.6783, 'grad_norm': 9.449655532836914, 'learning_rate': 5.8757062146892665e-06, 'epoch': 2.82}\n",
      "{'loss': 0.5884, 'grad_norm': 13.316062927246094, 'learning_rate': 2.344632768361582e-06, 'epoch': 3.53}\n",
      "{'train_runtime': 3249.0648, 'train_samples_per_second': 13.929, 'train_steps_per_second': 0.872, 'train_loss': 0.9555027309784108, 'epoch': 4.0}\n"
     ]
    },
    {
     "data": {
      "text/plain": [
       "TrainOutput(global_step=2832, training_loss=0.9555027309784108, metrics={'train_runtime': 3249.0648, 'train_samples_per_second': 13.929, 'train_steps_per_second': 0.872, 'total_flos': 5996868997447680.0, 'train_loss': 0.9555027309784108, 'epoch': 4.0})"
      ]
     },
     "execution_count": 21,
     "metadata": {},
     "output_type": "execute_result"
    }
   ],
   "source": [
    "trainer_20.train()"
   ]
  },
  {
   "cell_type": "code",
   "execution_count": 22,
   "metadata": {},
   "outputs": [
    {
     "data": {
      "application/vnd.jupyter.widget-view+json": {
       "model_id": "3146800be47e41fba47d22b4f2fdec77",
       "version_major": 2,
       "version_minor": 0
      },
      "text/plain": [
       "  0%|          | 0/708 [00:00<?, ?it/s]"
      ]
     },
     "metadata": {},
     "output_type": "display_data"
    },
    {
     "data": {
      "application/vnd.jupyter.widget-view+json": {
       "model_id": "ef2a34a78dfa4ca4aa7876ab56e192ec",
       "version_major": 2,
       "version_minor": 0
      },
      "text/plain": [
       "  0%|          | 0/471 [00:00<?, ?it/s]"
      ]
     },
     "metadata": {},
     "output_type": "display_data"
    }
   ],
   "source": [
    "results_train_20 = trainer_20.evaluate(eval_dataset=tokens_train_20)\n",
    "results_test_20 = trainer_20.evaluate(eval_dataset=tokens_test_20)"
   ]
  },
  {
   "cell_type": "code",
   "execution_count": 23,
   "metadata": {},
   "outputs": [
    {
     "name": "stdout",
     "output_type": "stream",
     "text": [
      "Training Evaluation Results: {'eval_loss': 0.4547242224216461, 'eval_accuracy': 0.8725472865476401, 'eval_f1': 0.8710519490841062, 'eval_runtime': 178.5355, 'eval_samples_per_second': 63.371, 'eval_steps_per_second': 3.966, 'epoch': 4.0}\n",
      "Test Evaluation Results: {'eval_loss': 1.0819001197814941, 'eval_accuracy': 0.6903876792352629, 'eval_f1': 0.6878910333935101, 'eval_runtime': 121.308, 'eval_samples_per_second': 62.09, 'eval_steps_per_second': 3.883, 'epoch': 4.0}\n"
     ]
    }
   ],
   "source": [
    "print(\"Training Evaluation Results:\", results_train_20)\n",
    "print(\"Test Evaluation Results:\", results_test_20)"
   ]
  },
  {
   "cell_type": "markdown",
   "metadata": {},
   "source": [
    "Graphing:"
   ]
  },
  {
   "cell_type": "code",
   "execution_count": 24,
   "metadata": {},
   "outputs": [],
   "source": [
    "texts_20 = ds_20['test']['processed']\n",
    "\n",
    "device = torch.device('cuda' if torch.cuda.is_available() else 'cpu')\n",
    "model_20.to(device)\n",
    "batch_size = 8"
   ]
  },
  {
   "cell_type": "code",
   "execution_count": 25,
   "metadata": {},
   "outputs": [],
   "source": [
    "def predict_in_batches_20(texts, batch_size):\n",
    "    predictions = []\n",
    "    # Iterate over texts in smaller batches\n",
    "    for i in range(0, len(texts), batch_size):\n",
    "        batch = texts[i:i+batch_size]\n",
    "        \n",
    "        # Tokenize the batch\n",
    "        inputs = tokenizer(batch, return_tensors='pt', padding=True, truncation=True, max_length=512)\n",
    "        \n",
    "        # Move inputs to the same device as the model\n",
    "        inputs = {key: value.to(device) for key, value in inputs.items()}\n",
    "\n",
    "        # Make predictions\n",
    "        with torch.no_grad():  # no need to compute gradients\n",
    "            outputs = model_20(**inputs)\n",
    "\n",
    "        # Get predicted classes\n",
    "        logits = outputs.logits\n",
    "        predicted_classes = torch.argmax(logits, dim=-1).cpu().numpy()\n",
    "        \n",
    "        predictions.extend(predicted_classes)\n",
    "\n",
    "    return predictions"
   ]
  },
  {
   "cell_type": "code",
   "execution_count": 26,
   "metadata": {},
   "outputs": [],
   "source": [
    "data_20 = pd.DataFrame(ds_20['test'])\n",
    "predicted_20 = predict_in_batches_20(texts_20, batch_size)\n",
    "data_20['predicted'] = predicted_20"
   ]
  },
  {
   "cell_type": "code",
   "execution_count": 58,
   "metadata": {},
   "outputs": [
    {
     "data": {
      "image/png": "[encoded data removed]",
      "text/plain": [
       "<Figure size 640x480 with 1 Axes>"
      ]
     },
     "metadata": {},
     "output_type": "display_data"
    }
   ],
   "source": [
    "plt.hist(data_20['label'],bins=20,color='blue',alpha=0.65,label='actual label')\n",
    "plt.hist(data_20['predicted'],bins=20,color='red',alpha=0.6,label='predicted label')\n",
    "plt.legend()\n",
    "plt.title('Trained model predictions,\\n 4 epochs, 20 labels')\n",
    "plt.xticks([])\n",
    "\n",
    "plt.savefig('charts/preds_multistep_20.png',bbox_inches='tight')"
   ]
  },
  {
   "cell_type": "markdown",
   "metadata": {},
   "source": [
    "**Evals**:<br>\n",
    "Training:<ul>\n",
    "accuracy: 0.873<br>\n",
    "f1: 0.871</ul>\n",
    "\n",
    "Test:<ul>\n",
    "accuracy: 0.690<br>\n",
    "f1: 0.688</ul>\n",
    "\n",
    "Random Chance:<ul>\n",
    "accuracy/f1: 0.05"
   ]
  },
  {
   "cell_type": "code",
   "execution_count": 36,
   "metadata": {},
   "outputs": [
    {
     "data": {
      "text/html": [
       "<div>\n",
       "<style scoped>\n",
       "    .dataframe tbody tr th:only-of-type {\n",
       "        vertical-align: middle;\n",
       "    }\n",
       "\n",
       "    .dataframe tbody tr th {\n",
       "        vertical-align: top;\n",
       "    }\n",
       "\n",
       "    .dataframe thead th {\n",
       "        text-align: right;\n",
       "    }\n",
       "</style>\n",
       "<table border=\"1\" class=\"dataframe\">\n",
       "  <thead>\n",
       "    <tr style=\"text-align: right;\">\n",
       "      <th></th>\n",
       "      <th>accuracy</th>\n",
       "      <th>f1</th>\n",
       "    </tr>\n",
       "  </thead>\n",
       "  <tbody>\n",
       "    <tr>\n",
       "      <th>training</th>\n",
       "      <td>0.873</td>\n",
       "      <td>0.871</td>\n",
       "    </tr>\n",
       "    <tr>\n",
       "      <th>test</th>\n",
       "      <td>0.690</td>\n",
       "      <td>0.688</td>\n",
       "    </tr>\n",
       "    <tr>\n",
       "      <th>random chance</th>\n",
       "      <td>0.050</td>\n",
       "      <td>0.050</td>\n",
       "    </tr>\n",
       "  </tbody>\n",
       "</table>\n",
       "</div>"
      ],
      "text/plain": [
       "               accuracy     f1\n",
       "training          0.873  0.871\n",
       "test              0.690  0.688\n",
       "random chance     0.050  0.050"
      ]
     },
     "execution_count": 36,
     "metadata": {},
     "output_type": "execute_result"
    }
   ],
   "source": [
    "evals_20 = {'training':[0.873,0.871],'test':[0.69,0.688],'random chance':[0.05,0.05]}\n",
    "metrics_20 = pd.DataFrame.from_dict(evals_20,orient='index',columns=['accuracy','f1'])\n",
    "metrics_20"
   ]
  },
  {
   "cell_type": "markdown",
   "metadata": {},
   "source": [
    "**Loss values**:<ul>\n",
    "trainer 1: 1.873<br>\n",
    "trainer 2: 1.054<br>\n",
    "trainer 3: 0.863<br>\n",
    "trainer 4: 0.678<br>\n",
    "trainer 5: 0.588<br>\n",
    "train_loss: 0.956<br>\n",
    "eval_train: 0.455<br>\n",
    "eval_test: 1.082<br>\n",
    "chance: 2.996"
   ]
  },
  {
   "cell_type": "code",
   "execution_count": 37,
   "metadata": {},
   "outputs": [
    {
     "data": {
      "text/html": [
       "<div>\n",
       "<style scoped>\n",
       "    .dataframe tbody tr th:only-of-type {\n",
       "        vertical-align: middle;\n",
       "    }\n",
       "\n",
       "    .dataframe tbody tr th {\n",
       "        vertical-align: top;\n",
       "    }\n",
       "\n",
       "    .dataframe thead th {\n",
       "        text-align: right;\n",
       "    }\n",
       "</style>\n",
       "<table border=\"1\" class=\"dataframe\">\n",
       "  <thead>\n",
       "    <tr style=\"text-align: right;\">\n",
       "      <th></th>\n",
       "      <th>loss</th>\n",
       "    </tr>\n",
       "  </thead>\n",
       "  <tbody>\n",
       "    <tr>\n",
       "      <th>trainer1</th>\n",
       "      <td>1.873</td>\n",
       "    </tr>\n",
       "    <tr>\n",
       "      <th>trainer2</th>\n",
       "      <td>1.054</td>\n",
       "    </tr>\n",
       "    <tr>\n",
       "      <th>trainer3</th>\n",
       "      <td>0.863</td>\n",
       "    </tr>\n",
       "    <tr>\n",
       "      <th>trainer4</th>\n",
       "      <td>0.678</td>\n",
       "    </tr>\n",
       "    <tr>\n",
       "      <th>trainer5</th>\n",
       "      <td>0.588</td>\n",
       "    </tr>\n",
       "    <tr>\n",
       "      <th>train_loss</th>\n",
       "      <td>0.956</td>\n",
       "    </tr>\n",
       "    <tr>\n",
       "      <th>eval_train</th>\n",
       "      <td>0.455</td>\n",
       "    </tr>\n",
       "    <tr>\n",
       "      <th>eval_test</th>\n",
       "      <td>1.082</td>\n",
       "    </tr>\n",
       "    <tr>\n",
       "      <th>chance</th>\n",
       "      <td>2.996</td>\n",
       "    </tr>\n",
       "  </tbody>\n",
       "</table>\n",
       "</div>"
      ],
      "text/plain": [
       "             loss\n",
       "trainer1    1.873\n",
       "trainer2    1.054\n",
       "trainer3    0.863\n",
       "trainer4    0.678\n",
       "trainer5    0.588\n",
       "train_loss  0.956\n",
       "eval_train  0.455\n",
       "eval_test   1.082\n",
       "chance      2.996"
      ]
     },
     "execution_count": 37,
     "metadata": {},
     "output_type": "execute_result"
    }
   ],
   "source": [
    "values_20 = {'trainer1':[1.873],'trainer2':[1.054],'trainer3':[0.863],'trainer4':[0.678],'trainer5':[0.588],'train_loss':[0.956],'eval_train':[0.455],'eval_test':[1.082],'chance':[2.996]}\n",
    "losses_20 = pd.DataFrame.from_dict(values_20,orient='index',columns=['loss'])\n",
    "losses_20"
   ]
  },
  {
   "cell_type": "code",
   "execution_count": 51,
   "metadata": {},
   "outputs": [
    {
     "data": {
      "image/png": "[encoded data removed]",
      "text/plain": [
       "<Figure size 1200x600 with 2 Axes>"
      ]
     },
     "metadata": {},
     "output_type": "display_data"
    }
   ],
   "source": [
    "# for 1st chart\n",
    "b_width1 = 0.4\n",
    "bar_1 = losses_20['loss']\n",
    "x_1 = np.arange(len(bar_1))\n",
    "\n",
    "# for 2nd chart\n",
    "b_width2 = 0.2\n",
    "bar1 = metrics_20['accuracy']\n",
    "bar2 = metrics_20['f1']\n",
    "x1 = np.arange(len(bar1))\n",
    "x2 = x1 + b_width2\n",
    "\n",
    "fig, (ax1, ax2) = plt.subplots(1, 2, figsize=(12, 6), dpi=100)\n",
    "\n",
    "# 1st chart\n",
    "ax1.bar(x_1,bar_1,width=b_width1, edgecolor='white')\n",
    "ax1.axhline(y=1.922,xmin=0.03,xmax=0.115,color='red',label='1 epoch model')\n",
    "ax1.axhline(y=1.758,xmin=0.56,xmax=0.65,color='red')\n",
    "ax1.axhline(y=1.234,xmin=0.67,xmax=0.76,color='red')\n",
    "ax1.axhline(y=1.374,xmin=0.78,xmax=0.865,color='red')\n",
    "ax1.set_xticks(x_1)\n",
    "ax1.set_xticks(x_1)\n",
    "ax1.set_xticklabels(['Training\\n 1', 'Training\\n 2', 'Training\\n 3', 'Training\\n 4', 'Training\\n 5', 'Train\\n Avg', 'Eval:\\n Train', 'Eval:\\n Test', 'Random\\n Chance'])\n",
    "ax1.set_title('Loss values')\n",
    "ax1.legend()\n",
    "\n",
    "# 2nd chart\n",
    "ax2.bar(x1,bar1,width=b_width2,edgecolor='white',label='Accuracy')\n",
    "ax2.bar(x2,bar2,width=b_width2,edgecolor='white',label='F1')\n",
    "ax2.axhline(y=0.656,xmin=0.035,xmax=0.13,color='red',label='1 epoch model')\n",
    "ax2.axhline(y=0.63,xmin=0.11,xmax=0.21,color='red')\n",
    "ax2.axhline(y=0.603,xmin=0.41,xmax=0.51,color='red')\n",
    "ax2.axhline(y=0.58,xmin=0.49,xmax=0.59,color='red')\n",
    "ax2.set_xticks(x1)\n",
    "ax2.set_xticklabels(['Eval: Train', 'Eval: Test', 'Random Chance'])\n",
    "ax2.legend()\n",
    "ax2.set_yticks(np.arange(0,1.1,0.1))\n",
    "ax2.set_title('Training Evaluation Metrics')\n",
    "\n",
    "plt.suptitle('Evaluation metrics;\\n 4 epochs, 20 labels ',fontsize=15)\n",
    "plt.tight_layout()\n",
    "\n",
    "plt.savefig('charts/evals_multistep_20.png',bbox_inches='tight')"
   ]
  },
  {
   "cell_type": "markdown",
   "metadata": {},
   "source": [
    "|Loss Value |1 Epoch|4 Epochs|Change|\n",
    "|-----------|------:|-------:|-----:|\n",
    "|Train Avg  |  1.758|   0.956|-0.802|\n",
    "|Eval: Train|  1.234|   0.455|-0.779|\n",
    "|Eval: Test |  1.374|   1.082|-0.292|\n",
    "<p>\n",
    "\n",
    "|Accuracy   |1 Epoch|4 Epochs|Change|\n",
    "|-----------|------:|-------:|-----:|\n",
    "|Eval: Train|  0.656|   0.873|+0.217|\n",
    "|Eval: Test |  0.603|   0.690|+0.087|\n",
    "<p>\n",
    "\n",
    "|F1         |1 Epoch|4 Epochs|Change|\n",
    "|-----------|------:|-------:|-----:|\n",
    "|Eval: Train|  0.630|   0.871|+0.241|\n",
    "|Eval: Test |  0.580|   0.688|+0.108|"
   ]
  },
  {
   "cell_type": "markdown",
   "metadata": {},
   "source": [
    "The same dramatic drop from train to test occurs here too, so additional hyperparameters are likely needed to control for that. <p>\n",
    "\n",
    "However, it is noteworthy that the differences between accuracy and f1 have either completely disappeared or come close to disappearing.<p>\n",
    "<br>\n",
    "\n",
    "|Model                   |Accuracy|F1   |Difference|\n",
    "|------------------------|-------:|----:|---------:|\n",
    "|1 epoch, 7 label, train |   0.818|0.802|     0.016|\n",
    "|1 epoch, 7 label, test  |   0.774|0.759|     0.015|\n",
    "|4 epoch, 7 label, train |   0.948|0.948|         0|\n",
    "|4 epoch, 7 label, test  |   0.808|0.808|         0|\n",
    "|                        |        |     |          |\n",
    "|1 epoch, 20 label, train|   0.656|0.630|     0.026|\n",
    "|1 epoch, 20 label, test |   0.603|0.580|     0.023|\n",
    "|4 epoch, 20 label, train|   0.873|0.871|     0.002|\n",
    "|4 epoch, 20 label, test |   0.690|0.688|     0.002|"
   ]
  }
 ],
 "metadata": {
  "kernelspec": {
   "display_name": "base",
   "language": "python",
   "name": "python3"
  },
  "language_info": {
   "codemirror_mode": {
    "name": "ipython",
    "version": 3
   },
   "file_extension": ".py",
   "mimetype": "text/x-python",
   "name": "python",
   "nbconvert_exporter": "python",
   "pygments_lexer": "ipython3",
   "version": "3.12.3"
  }
 },
 "nbformat": 4,
 "nbformat_minor": 2
}
