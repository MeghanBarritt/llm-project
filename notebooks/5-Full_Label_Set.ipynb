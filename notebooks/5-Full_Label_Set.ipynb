{
 "cells": [
  {
   "cell_type": "markdown",
   "metadata": {},
   "source": [
    "# 5 - Full Label Set <p>\n",
    "Since I had such good results on my smaller set of 7 labels, I want to run another version of the model on the full set of 20 labels. "
   ]
  },
  {
   "cell_type": "code",
   "execution_count": 1,
   "metadata": {},
   "outputs": [
    {
     "name": "stderr",
     "output_type": "stream",
     "text": [
      "Repo card metadata block was not found. Setting CardData to empty.\n"
     ]
    }
   ],
   "source": [
    "from datasets import load_dataset\n",
    "ds = load_dataset('SetFit/20_newsgroups')\n",
    "import pandas as pd\n",
    "ds_train = pd.DataFrame(ds['train'])\n",
    "ds_test = pd.DataFrame(ds['test'])"
   ]
  },
  {
   "cell_type": "markdown",
   "metadata": {},
   "source": [
    "### Preprocessing\n",
    "Going to run the exact same preprocessing as last time. "
   ]
  },
  {
   "cell_type": "code",
   "execution_count": 2,
   "metadata": {},
   "outputs": [],
   "source": [
    "# create new column, remove newlines\n",
    "ds_train['processed'] = ds_train['text'].str.replace('\\n',' ')\n",
    "ds_test['processed'] = ds_test['text'].str.replace('\\n',' ')"
   ]
  },
  {
   "cell_type": "code",
   "execution_count": 3,
   "metadata": {},
   "outputs": [],
   "source": [
    "# remove HTML tags\n",
    "import re\n",
    "\n",
    "def remove_html(text):\n",
    "    clean_text = re.sub('<.*?>', '', text)\n",
    "    return clean_text\n",
    "\n",
    "\n",
    "ds_train['processed'] = ds_train['processed'].apply(lambda x: remove_html(x))\n",
    "ds_test['processed'] = ds_test['processed'].apply(lambda x: remove_html(x))"
   ]
  },
  {
   "cell_type": "code",
   "execution_count": 4,
   "metadata": {},
   "outputs": [],
   "source": [
    "# remove URLs\n",
    "def remove_urls(text):\n",
    "    clean_text = re.sub(r'http\\S+|www\\S+|https\\S+', '', text)\n",
    "    return clean_text\n",
    "\n",
    "\n",
    "ds_train['processed'] = ds_train['processed'].apply(lambda x: remove_urls(x))\n",
    "ds_test['processed'] = ds_test['processed'].apply(lambda x: remove_urls(x))"
   ]
  },
  {
   "cell_type": "code",
   "execution_count": 5,
   "metadata": {},
   "outputs": [],
   "source": [
    "# remove emails\n",
    "def remove_emails(text):\n",
    "    email_pattern = r'\\b[A-Za-z0-9._%+-]+@[A-Za-z0-9.-]+\\.[A-Za-z]{2,}\\b'\n",
    "    cleaned_text = re.sub(email_pattern, '', text)\n",
    "    return cleaned_text\n",
    "\n",
    "\n",
    "ds_train['processed'] = ds_train['processed'].apply(lambda x: remove_emails(x))\n",
    "ds_test['processed'] = ds_test['processed'].apply(lambda x: remove_emails(x))"
   ]
  },
  {
   "cell_type": "code",
   "execution_count": 6,
   "metadata": {},
   "outputs": [],
   "source": [
    "# remove punctuation\n",
    "import string\n",
    "\n",
    "def remove_punctuation(text):\n",
    "  cleaned_text = text.translate(str.maketrans(\"\", \"\", string.punctuation))\n",
    "  return cleaned_text\n",
    "\n",
    "\n",
    "ds_train['processed'] = ds_train['processed'].apply(lambda x: remove_punctuation(x))\n",
    "ds_test['processed'] = ds_test['processed'].apply(lambda x: remove_punctuation(x))"
   ]
  },
  {
   "cell_type": "code",
   "execution_count": 7,
   "metadata": {},
   "outputs": [],
   "source": [
    "# convert to lowercase\n",
    "ds_train['processed'] = ds_train['processed'].str.lower()\n",
    "ds_test['processed'] = ds_test['processed'].str.lower()"
   ]
  },
  {
   "cell_type": "code",
   "execution_count": 8,
   "metadata": {},
   "outputs": [
    {
     "name": "stderr",
     "output_type": "stream",
     "text": [
      "[nltk_data] Downloading package stopwords to\n",
      "[nltk_data]     C:\\Users\\mebar\\AppData\\Roaming\\nltk_data...\n",
      "[nltk_data]   Package stopwords is already up-to-date!\n",
      "[nltk_data] Downloading package punkt_tab to\n",
      "[nltk_data]     C:\\Users\\mebar\\AppData\\Roaming\\nltk_data...\n",
      "[nltk_data]   Package punkt_tab is already up-to-date!\n"
     ]
    },
    {
     "data": {
      "text/plain": [
       "True"
      ]
     },
     "execution_count": 8,
     "metadata": {},
     "output_type": "execute_result"
    }
   ],
   "source": [
    "import nltk\n",
    "from nltk.corpus import stopwords\n",
    "from nltk.tokenize import word_tokenize\n",
    "nltk.download('stopwords')\n",
    "nltk.download('punkt_tab')"
   ]
  },
  {
   "cell_type": "code",
   "execution_count": 9,
   "metadata": {},
   "outputs": [],
   "source": [
    "# create new column, drop stopwords\n",
    "def remove_stopwords(text):\n",
    "    stop_words = set(stopwords.words('english'))\n",
    "    tokens = word_tokenize(text)\n",
    "    filtered_text = [word for word in tokens if word.lower() not in stop_words]\n",
    "    return ' '.join(filtered_text)\n",
    "\n",
    "\n",
    "ds_train['processed'] = ds_train['processed'].apply(lambda x: remove_stopwords(x))\n",
    "ds_test['processed'] = ds_test['processed'].apply(lambda x: remove_stopwords(x))"
   ]
  },
  {
   "cell_type": "code",
   "execution_count": 10,
   "metadata": {},
   "outputs": [],
   "source": [
    "from datasets import Dataset, DatasetDict\n",
    "train = Dataset.from_pandas(ds_train[['processed','label_text','label']])\n",
    "test = Dataset.from_pandas(ds_test[['processed','label_text','label']])\n",
    "ds_dict = DatasetDict({\n",
    "    'train': train,\n",
    "    'test': test})"
   ]
  },
  {
   "cell_type": "code",
   "execution_count": 11,
   "metadata": {},
   "outputs": [
    {
     "data": {
      "text/plain": [
       "DatasetDict({\n",
       "    train: Dataset({\n",
       "        features: ['processed', 'label_text', 'label'],\n",
       "        num_rows: 11314\n",
       "    })\n",
       "    test: Dataset({\n",
       "        features: ['processed', 'label_text', 'label'],\n",
       "        num_rows: 7532\n",
       "    })\n",
       "})"
      ]
     },
     "execution_count": 11,
     "metadata": {},
     "output_type": "execute_result"
    }
   ],
   "source": [
    "ds_dict"
   ]
  },
  {
   "cell_type": "markdown",
   "metadata": {},
   "source": [
    "### Training A Model <p>\n",
    "Again, I'm doing this exactly the same as the last one, aside from specifying a different directory to put the results into. "
   ]
  },
  {
   "cell_type": "code",
   "execution_count": 12,
   "metadata": {},
   "outputs": [],
   "source": [
    "from transformers import DistilBertTokenizerFast, DistilBertForSequenceClassification"
   ]
  },
  {
   "cell_type": "code",
   "execution_count": 13,
   "metadata": {},
   "outputs": [
    {
     "name": "stderr",
     "output_type": "stream",
     "text": [
      "Some weights of DistilBertForSequenceClassification were not initialized from the model checkpoint at distilbert-base-uncased and are newly initialized: ['classifier.bias', 'classifier.weight', 'pre_classifier.bias', 'pre_classifier.weight']\n",
      "You should probably TRAIN this model on a down-stream task to be able to use it for predictions and inference.\n"
     ]
    }
   ],
   "source": [
    "model_name = \"distilbert-base-uncased\"\n",
    "tokenizer = DistilBertTokenizerFast.from_pretrained(model_name)\n",
    "model = DistilBertForSequenceClassification.from_pretrained(model_name,num_labels=20)"
   ]
  },
  {
   "cell_type": "code",
   "execution_count": 14,
   "metadata": {},
   "outputs": [],
   "source": [
    "def tokenize_process(batch):\n",
    "    return tokenizer(batch['processed'], return_tensors='pt', truncation=True, padding=True)"
   ]
  },
  {
   "cell_type": "code",
   "execution_count": 15,
   "metadata": {},
   "outputs": [
    {
     "data": {
      "application/vnd.jupyter.widget-view+json": {
       "model_id": "5ae883198aa143ee88f26146b5acd8ca",
       "version_major": 2,
       "version_minor": 0
      },
      "text/plain": [
       "Map:   0%|          | 0/11314 [00:00<?, ? examples/s]"
      ]
     },
     "metadata": {},
     "output_type": "display_data"
    },
    {
     "data": {
      "application/vnd.jupyter.widget-view+json": {
       "model_id": "6156d52f609146caaff6f9d5dedf0aa5",
       "version_major": 2,
       "version_minor": 0
      },
      "text/plain": [
       "Map:   0%|          | 0/7532 [00:00<?, ? examples/s]"
      ]
     },
     "metadata": {},
     "output_type": "display_data"
    }
   ],
   "source": [
    "tokens_train = ds_dict['train'].map(tokenize_process, batched=True)\n",
    "tokens_test = ds_dict['test'].map(tokenize_process, batched=True)"
   ]
  },
  {
   "cell_type": "code",
   "execution_count": 16,
   "metadata": {},
   "outputs": [],
   "source": [
    "import evaluate\n",
    "import numpy as np\n",
    "from transformers import DataCollatorWithPadding\n",
    "data_collator = DataCollatorWithPadding(tokenizer=tokenizer)"
   ]
  },
  {
   "cell_type": "code",
   "execution_count": 17,
   "metadata": {},
   "outputs": [],
   "source": [
    "accuracy_metric = evaluate.load(\"accuracy\")\n",
    "f1_metric = evaluate.load(\"f1\")\n",
    "\n",
    "def compute_metrics(eval_pred):\n",
    "    logits, labels = eval_pred\n",
    "    predictions = np.argmax(logits, axis=-1)  # Get the predicted class labels\n",
    "    # Compute accuracy\n",
    "    accuracy = accuracy_metric.compute(predictions=predictions, references=labels)\n",
    "    # Compute F1 score\n",
    "    f1 = f1_metric.compute(predictions=predictions, references=labels, average='weighted')\n",
    "    # Return both metrics\n",
    "    return {\"accuracy\": accuracy[\"accuracy\"], \"f1\": f1[\"f1\"]}"
   ]
  },
  {
   "cell_type": "code",
   "execution_count": 18,
   "metadata": {},
   "outputs": [],
   "source": [
    "from transformers import TrainingArguments, Trainer\n",
    "training_args = TrainingArguments(\n",
    "    output_dir='model_20',\n",
    "    report_to='none',\n",
    "    learning_rate=2e-5,\n",
    "    per_device_train_batch_size=16,\n",
    "    per_device_eval_batch_size=16,\n",
    "    num_train_epochs=1)\n",
    "\n",
    "trainer = Trainer(\n",
    "   model=model,\n",
    "   args=training_args,\n",
    "   train_dataset=tokens_train,\n",
    "   eval_dataset=tokens_test,\n",
    "   tokenizer=tokenizer,\n",
    "   data_collator=data_collator,\n",
    "   compute_metrics=compute_metrics)"
   ]
  },
  {
   "cell_type": "code",
   "execution_count": 19,
   "metadata": {},
   "outputs": [
    {
     "data": {
      "application/vnd.jupyter.widget-view+json": {
       "model_id": "e790a34e903346b0843cead388b95bf1",
       "version_major": 2,
       "version_minor": 0
      },
      "text/plain": [
       "  0%|          | 0/708 [00:00<?, ?it/s]"
      ]
     },
     "metadata": {},
     "output_type": "display_data"
    },
    {
     "name": "stdout",
     "output_type": "stream",
     "text": [
      "{'loss': 1.9223, 'grad_norm': 6.7198381423950195, 'learning_rate': 5.8757062146892665e-06, 'epoch': 0.71}\n",
      "{'train_runtime': 3471.8327, 'train_samples_per_second': 3.259, 'train_steps_per_second': 0.204, 'train_loss': 1.757728188724841, 'epoch': 1.0}\n"
     ]
    },
    {
     "data": {
      "text/plain": [
       "TrainOutput(global_step=708, training_loss=1.757728188724841, metrics={'train_runtime': 3471.8327, 'train_samples_per_second': 3.259, 'train_steps_per_second': 0.204, 'total_flos': 1499217249361920.0, 'train_loss': 1.757728188724841, 'epoch': 1.0})"
      ]
     },
     "execution_count": 19,
     "metadata": {},
     "output_type": "execute_result"
    }
   ],
   "source": [
    "trainer.train()"
   ]
  },
  {
   "cell_type": "markdown",
   "metadata": {},
   "source": [
    "Loss of 1.9223, train_loss of 1.7577"
   ]
  },
  {
   "cell_type": "code",
   "execution_count": 20,
   "metadata": {},
   "outputs": [
    {
     "data": {
      "application/vnd.jupyter.widget-view+json": {
       "model_id": "5133f68e51d945f29ba87598fdf962d0",
       "version_major": 2,
       "version_minor": 0
      },
      "text/plain": [
       "  0%|          | 0/708 [00:00<?, ?it/s]"
      ]
     },
     "metadata": {},
     "output_type": "display_data"
    },
    {
     "data": {
      "application/vnd.jupyter.widget-view+json": {
       "model_id": "ec3294599e1741828d354e20f595b932",
       "version_major": 2,
       "version_minor": 0
      },
      "text/plain": [
       "  0%|          | 0/471 [00:00<?, ?it/s]"
      ]
     },
     "metadata": {},
     "output_type": "display_data"
    }
   ],
   "source": [
    "results_train = trainer.evaluate(eval_dataset=tokens_train)\n",
    "results_test = trainer.evaluate(eval_dataset=tokens_test)"
   ]
  },
  {
   "cell_type": "code",
   "execution_count": 21,
   "metadata": {},
   "outputs": [
    {
     "name": "stdout",
     "output_type": "stream",
     "text": [
      "Training Evaluation Results: {'eval_loss': 1.2342791557312012, 'eval_accuracy': 0.6556478698957044, 'eval_f1': 0.6296456361531486, 'eval_runtime': 165.8438, 'eval_samples_per_second': 68.221, 'eval_steps_per_second': 4.269, 'epoch': 1.0}\n",
      "Test Evaluation Results: {'eval_loss': 1.37382972240448, 'eval_accuracy': 0.6032926181625067, 'eval_f1': 0.5798246822990307, 'eval_runtime': 113.4407, 'eval_samples_per_second': 66.396, 'eval_steps_per_second': 4.152, 'epoch': 1.0}\n"
     ]
    }
   ],
   "source": [
    "print(\"Training Evaluation Results:\", results_train)\n",
    "print(\"Test Evaluation Results:\", results_test)"
   ]
  },
  {
   "cell_type": "markdown",
   "metadata": {},
   "source": [
    "Making the graphs again:"
   ]
  },
  {
   "cell_type": "code",
   "execution_count": 23,
   "metadata": {},
   "outputs": [],
   "source": [
    "import torch\n",
    "import pandas as pd\n",
    "\n",
    "texts = ds_test['processed'].tolist()"
   ]
  },
  {
   "cell_type": "code",
   "execution_count": 24,
   "metadata": {},
   "outputs": [],
   "source": [
    "device = torch.device('cuda' if torch.cuda.is_available() else 'cpu')\n",
    "model.to(device)\n",
    "batch_size = 8"
   ]
  },
  {
   "cell_type": "code",
   "execution_count": 25,
   "metadata": {},
   "outputs": [],
   "source": [
    "def predict_in_batches(texts, batch_size):\n",
    "    predictions = []\n",
    "    # Iterate over texts in smaller batches\n",
    "    for i in range(0, len(texts), batch_size):\n",
    "        batch = texts[i:i+batch_size]\n",
    "        \n",
    "        # Tokenize the batch\n",
    "        inputs = tokenizer(batch, return_tensors='pt', padding=True, truncation=True, max_length=512)\n",
    "        \n",
    "        # Move inputs to the same device as the model\n",
    "        inputs = {key: value.to(device) for key, value in inputs.items()}\n",
    "\n",
    "        # Make predictions\n",
    "        with torch.no_grad():  # no need to compute gradients\n",
    "            outputs = model(**inputs)\n",
    "\n",
    "        # Get predicted classes\n",
    "        logits = outputs.logits\n",
    "        predicted_classes = torch.argmax(logits, dim=-1).cpu().numpy()\n",
    "        \n",
    "        predictions.extend(predicted_classes)\n",
    "\n",
    "    return predictions"
   ]
  },
  {
   "cell_type": "code",
   "execution_count": 26,
   "metadata": {},
   "outputs": [],
   "source": [
    "predicted_classes = predict_in_batches(texts, batch_size)\n",
    "ds_test['predicted'] = predicted_classes"
   ]
  },
  {
   "cell_type": "code",
   "execution_count": 27,
   "metadata": {},
   "outputs": [],
   "source": [
    "import matplotlib.pyplot as plt"
   ]
  },
  {
   "cell_type": "code",
   "execution_count": 28,
   "metadata": {},
   "outputs": [
    {
     "data": {
      "image/png": "[encoded data removed]",
      "text/plain": [
       "<Figure size 640x480 with 1 Axes>"
      ]
     },
     "metadata": {},
     "output_type": "display_data"
    }
   ],
   "source": [
    "plt.hist(ds_test['label'],bins=20,color='blue',alpha=0.65,label='actual label')\n",
    "plt.hist(ds_test['predicted'],bins=20,color='red',alpha=0.6,label='predicted label')\n",
    "plt.legend()\n",
    "plt.title('Trained model predictions')\n",
    "plt.xticks([])\n",
    "\n",
    "plt.savefig('charts/preds_fullset.png',bbox_inches='tight')"
   ]
  },
  {
   "cell_type": "markdown",
   "metadata": {},
   "source": [
    "**Evals**:<br>\n",
    "Training:<ul>\n",
    "accuracy: 0.656<br>\n",
    "f1: 0.630 </ul>\n",
    "\n",
    "Test:<ul>\n",
    "accuracy: 0.603<br>\n",
    "f1: 0.580</ul>\n",
    "\n",
    "Random Chance:<ul>\n",
    "accuracy/f1: 0.14"
   ]
  },
  {
   "cell_type": "code",
   "execution_count": 29,
   "metadata": {},
   "outputs": [
    {
     "data": {
      "text/html": [
       "<div>\n",
       "<style scoped>\n",
       "    .dataframe tbody tr th:only-of-type {\n",
       "        vertical-align: middle;\n",
       "    }\n",
       "\n",
       "    .dataframe tbody tr th {\n",
       "        vertical-align: top;\n",
       "    }\n",
       "\n",
       "    .dataframe thead th {\n",
       "        text-align: right;\n",
       "    }\n",
       "</style>\n",
       "<table border=\"1\" class=\"dataframe\">\n",
       "  <thead>\n",
       "    <tr style=\"text-align: right;\">\n",
       "      <th></th>\n",
       "      <th>accuracy</th>\n",
       "      <th>f1</th>\n",
       "    </tr>\n",
       "  </thead>\n",
       "  <tbody>\n",
       "    <tr>\n",
       "      <th>training</th>\n",
       "      <td>0.656</td>\n",
       "      <td>0.63</td>\n",
       "    </tr>\n",
       "    <tr>\n",
       "      <th>test</th>\n",
       "      <td>0.603</td>\n",
       "      <td>0.58</td>\n",
       "    </tr>\n",
       "    <tr>\n",
       "      <th>random chance</th>\n",
       "      <td>0.140</td>\n",
       "      <td>0.14</td>\n",
       "    </tr>\n",
       "  </tbody>\n",
       "</table>\n",
       "</div>"
      ],
      "text/plain": [
       "               accuracy    f1\n",
       "training          0.656  0.63\n",
       "test              0.603  0.58\n",
       "random chance     0.140  0.14"
      ]
     },
     "execution_count": 29,
     "metadata": {},
     "output_type": "execute_result"
    }
   ],
   "source": [
    "evals = {'training':[0.656,0.630],'test':[0.603,0.580],'random chance':[0.14,0.14]}\n",
    "metrics = pd.DataFrame.from_dict(evals,orient='index',columns=['accuracy','f1'])\n",
    "metrics"
   ]
  },
  {
   "cell_type": "markdown",
   "metadata": {},
   "source": [
    "**Loss values**:<ul>\n",
    "trainer 1: 1.922<br>\n",
    "trainer 2: 1.758<br>\n",
    "eval_train: 1.234<br>\n",
    "eval_test: 1.374<br>\n",
    "chance: 1.95"
   ]
  },
  {
   "cell_type": "code",
   "execution_count": 30,
   "metadata": {},
   "outputs": [
    {
     "data": {
      "text/html": [
       "<div>\n",
       "<style scoped>\n",
       "    .dataframe tbody tr th:only-of-type {\n",
       "        vertical-align: middle;\n",
       "    }\n",
       "\n",
       "    .dataframe tbody tr th {\n",
       "        vertical-align: top;\n",
       "    }\n",
       "\n",
       "    .dataframe thead th {\n",
       "        text-align: right;\n",
       "    }\n",
       "</style>\n",
       "<table border=\"1\" class=\"dataframe\">\n",
       "  <thead>\n",
       "    <tr style=\"text-align: right;\">\n",
       "      <th></th>\n",
       "      <th>loss</th>\n",
       "    </tr>\n",
       "  </thead>\n",
       "  <tbody>\n",
       "    <tr>\n",
       "      <th>training1</th>\n",
       "      <td>1.922</td>\n",
       "    </tr>\n",
       "    <tr>\n",
       "      <th>training2</th>\n",
       "      <td>1.758</td>\n",
       "    </tr>\n",
       "    <tr>\n",
       "      <th>eval_train</th>\n",
       "      <td>1.234</td>\n",
       "    </tr>\n",
       "    <tr>\n",
       "      <th>eval_test</th>\n",
       "      <td>1.374</td>\n",
       "    </tr>\n",
       "    <tr>\n",
       "      <th>chance</th>\n",
       "      <td>1.950</td>\n",
       "    </tr>\n",
       "  </tbody>\n",
       "</table>\n",
       "</div>"
      ],
      "text/plain": [
       "             loss\n",
       "training1   1.922\n",
       "training2   1.758\n",
       "eval_train  1.234\n",
       "eval_test   1.374\n",
       "chance      1.950"
      ]
     },
     "execution_count": 30,
     "metadata": {},
     "output_type": "execute_result"
    }
   ],
   "source": [
    "data = {'training1':[1.922],'training2':[1.758],'eval_train':[1.234],'eval_test':[1.374],'chance':[1.95]}\n",
    "losses = pd.DataFrame.from_dict(data,orient='index',columns=['loss'])\n",
    "losses"
   ]
  },
  {
   "cell_type": "code",
   "execution_count": 83,
   "metadata": {},
   "outputs": [
    {
     "data": {
      "image/png": "[encoded data removed]",
      "text/plain": [
       "<Figure size 1200x600 with 2 Axes>"
      ]
     },
     "metadata": {},
     "output_type": "display_data"
    }
   ],
   "source": [
    "# Define data for the first chart\n",
    "b_width1 = 0.3\n",
    "bar1 = losses['loss']\n",
    "x1 = np.arange(len(bar1))\n",
    "\n",
    "# Define data for the second chart\n",
    "b_width2 = 0.2\n",
    "bar1_metrics = metrics['accuracy']\n",
    "bar2_metrics = metrics['f1']\n",
    "x2 = np.arange(len(bar1_metrics))\n",
    "x3 = x2 + b_width2\n",
    "\n",
    "# Create 1x2 grid of subplots\n",
    "fig, (ax1, ax2) = plt.subplots(1, 2, figsize=(12, 6), dpi=100)\n",
    "\n",
    "# Plot the first chart (Loss values) on ax1\n",
    "ax1.bar(x1, bar1, width=b_width1, edgecolor='white')\n",
    "ax1.axhline(y=0.881,xmin=0.03,xmax=0.125,color='red',label='Prior model')\n",
    "ax1.axhline(y=0.806,xmin=0.24,xmax=0.34,color='red')\n",
    "ax1.axhline(y=0.521,xmin=0.45,xmax=0.55,color='red')\n",
    "ax1.axhline(y=0.632,xmin=0.66,xmax=0.76,color='red')\n",
    "ax1.set_xticks(x1)\n",
    "ax1.set_xticklabels(['Training 1', 'Training 2', 'Eval: Train', 'Eval: Test', 'Random Chance'])\n",
    "ax1.legend(loc='upper center')\n",
    "ax1.set_title('Loss values')\n",
    "\n",
    "# Plot the second chart (Accuracy and F1 metrics) on ax2\n",
    "ax2.bar(x2, bar1_metrics, width=b_width2, edgecolor='white', label='Accuracy')\n",
    "ax2.bar(x3, bar2_metrics, width=b_width2, edgecolor='white', label='F1')\n",
    "ax2.axhline(y=0.818,xmin=0.035,xmax=0.13,color='red',label='Prior model')\n",
    "ax2.axhline(y=0.802,xmin=0.11,xmax=0.21,color='red')\n",
    "ax2.axhline(y=0.774,xmin=0.41,xmax=0.51,color='red')\n",
    "ax2.axhline(y=0.759,xmin=0.49,xmax=0.59,color='red')\n",
    "ax2.set_xticks(x2)\n",
    "ax2.set_xticklabels(['Eval: Train', 'Eval: Test', 'Random Chance'])\n",
    "ax2.legend()\n",
    "ax2.set_yticks(np.arange(0,0.9,0.1))\n",
    "ax2.set_title('Training Evaluation Metrics')\n",
    "\n",
    "plt.tight_layout()\n",
    "\n",
    "plt.savefig('charts/evals_fullset.png',bbox_inches='tight')"
   ]
  },
  {
   "cell_type": "markdown",
   "metadata": {},
   "source": [
    "For reference, here's a comparison to the 7-label performance:<p>\n",
    "\n",
    "|               |7 labels|20 labels|\n",
    "|---------------|-------:|--------:|\n",
    "|training 1 loss|   0.881|    1.922|\n",
    "|training 2 loss|   0.806|    1.758|\n",
    "|eval_train     |   0.521|    1.234|\n",
    "|eval_test      |   0.632|    1.374|\n",
    "|               |        |         |\n",
    "|chance         |   1.950|    0.140|\n",
    "|               |        |         |\n",
    "|train accuracy |   0.818|    0.656|\n",
    "|train f1       |   0.802|    0.630|\n",
    "|test accuracy  |   0.774|    0.603|\n",
    "|test f1        |   0.759|    0.580|"
   ]
  },
  {
   "cell_type": "markdown",
   "metadata": {},
   "source": [
    "Clearly, the model had a harder time with the full set of 20 category labels. It still did much better than random chance in terms of correctness, but nowhere near as well as the 7 label version. The initial loss value was almost as high as random chance, and did decrease, but never got as low as even the highest loss from the 7 labels version. I don't know if having more rounds of training would improve that, or if I need to change other hyperparameters."
   ]
  }
 ],
 "metadata": {
  "kernelspec": {
   "display_name": "base",
   "language": "python",
   "name": "python3"
  },
  "language_info": {
   "codemirror_mode": {
    "name": "ipython",
    "version": 3
   },
   "file_extension": ".py",
   "mimetype": "text/x-python",
   "name": "python",
   "nbconvert_exporter": "python",
   "pygments_lexer": "ipython3",
   "version": "3.12.3"
  }
 },
 "nbformat": 4,
 "nbformat_minor": 2
}
