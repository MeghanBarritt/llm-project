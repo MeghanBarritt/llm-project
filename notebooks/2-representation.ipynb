{
 "cells": [
  {
   "cell_type": "markdown",
   "metadata": {},
   "source": [
    "# 2 - Representation Using SKLearn"
   ]
  },
  {
   "cell_type": "code",
   "execution_count": 1,
   "metadata": {},
   "outputs": [],
   "source": [
    "import pandas as pd\n",
    "ds_train = pd.read_pickle('pickles/ds_train.pkl')\n",
    "ds_test = pd.read_pickle('pickles/ds_test.pkl')"
   ]
  },
  {
   "cell_type": "markdown",
   "metadata": {},
   "source": [
    "In order to make predicitons on the text, it first needs to be converted into vector tokens the computer can understand. For that I am using `TFIDVectorizer`.<p>\n",
    "Because I have two columns of text, one with stopwords and one without, and I want to see how this less computationally intensive process performs on each, I need two different instances of the vectorizer."
   ]
  },
  {
   "cell_type": "code",
   "execution_count": null,
   "metadata": {},
   "outputs": [],
   "source": [
    "from sklearn.feature_extraction.text import TfidfVectorizer\n",
    "\n",
    "# setting thresholds for word occurence and relevance \n",
    "tfid_prepro = TfidfVectorizer(max_df=0.95,\n",
    "        min_df=2)\n",
    "\n",
    "tfid_nostop = TfidfVectorizer(max_df=0.95,\n",
    "        min_df=2)"
   ]
  },
  {
   "cell_type": "markdown",
   "metadata": {},
   "source": [
    "I also need to do `fit_transform` and `transform` for each one, as well as put the results into an array for storage."
   ]
  },
  {
   "cell_type": "code",
   "execution_count": 3,
   "metadata": {},
   "outputs": [],
   "source": [
    "# for the preprocess column (with stopwords)\n",
    "# train\n",
    "vec_train_prepro = tfid_prepro.fit_transform(ds_train['preprocess'])\n",
    "train_prepro_array = vec_train_prepro.toarray()\n",
    "# test\n",
    "vec_test_prepro = tfid_prepro.transform(ds_test['preprocess'])\n",
    "test_prepro_array = vec_test_prepro.toarray()"
   ]
  },
  {
   "cell_type": "code",
   "execution_count": 4,
   "metadata": {},
   "outputs": [],
   "source": [
    "# for the no_stopword column (without stopwords)\n",
    "# train\n",
    "vec_train_nostop = tfid_nostop.fit_transform(ds_train['no_stopword'])\n",
    "train_nostop_array = vec_train_nostop.toarray()\n",
    "# test\n",
    "vec_test_nostop = tfid_nostop.transform(ds_test['no_stopword'])\n",
    "test_nostop_array = vec_test_nostop.toarray()"
   ]
  },
  {
   "cell_type": "markdown",
   "metadata": {},
   "source": [
    "Quick check that there are the same number of columns on each..."
   ]
  },
  {
   "cell_type": "code",
   "execution_count": 5,
   "metadata": {},
   "outputs": [
    {
     "name": "stdout",
     "output_type": "stream",
     "text": [
      "train_preprep: (11314, 36428)\n",
      "test_preprep: (7532, 36428)\n",
      "train_nostop: (11314, 36297)\n",
      "test_nostop: (7532, 36297)\n"
     ]
    }
   ],
   "source": [
    "print('train_preprep:',train_prepro_array.shape)\n",
    "print('test_preprep:',test_prepro_array.shape)\n",
    "print('train_nostop:',train_nostop_array.shape)\n",
    "print('test_nostop:',test_nostop_array.shape)"
   ]
  },
  {
   "cell_type": "markdown",
   "metadata": {},
   "source": [
    "### LDA Topic Modeling "
   ]
  },
  {
   "cell_type": "code",
   "execution_count": 6,
   "metadata": {},
   "outputs": [],
   "source": [
    "from sklearn.decomposition import LatentDirichletAllocation"
   ]
  },
  {
   "cell_type": "markdown",
   "metadata": {},
   "source": [
    "Setting my n_components at 7 based on the labels I created earlier, and once again making two versions of the process; one for each category. (I did mess this up at once point and it broke everything for a solid half hour.)"
   ]
  },
  {
   "cell_type": "code",
   "execution_count": 7,
   "metadata": {},
   "outputs": [],
   "source": [
    "n_cats = 7\n",
    "lda_prepro = LatentDirichletAllocation(n_components=n_cats, random_state=42)\n",
    "lda_nostop = LatentDirichletAllocation(n_components=n_cats, random_state=42)"
   ]
  },
  {
   "cell_type": "code",
   "execution_count": 8,
   "metadata": {},
   "outputs": [],
   "source": [
    "# both fit_transforms\n",
    "lda_train_prepro = lda_prepro.fit_transform(train_prepro_array)\n",
    "lda_train_nostop = lda_nostop.fit_transform(train_nostop_array)"
   ]
  },
  {
   "cell_type": "code",
   "execution_count": 9,
   "metadata": {},
   "outputs": [],
   "source": [
    "# both transforms\n",
    "lda_test_prepro = lda_prepro.transform(test_prepro_array)\n",
    "lda_test_nostop = lda_nostop.transform(test_nostop_array)"
   ]
  },
  {
   "cell_type": "markdown",
   "metadata": {},
   "source": [
    "Displaying the most common words for each of the topics being generated:"
   ]
  },
  {
   "cell_type": "code",
   "execution_count": 10,
   "metadata": {},
   "outputs": [],
   "source": [
    "def display_top_words(lda_model, vectorizer, n_top_words=10):\n",
    "  # has the distribution per topic info\n",
    "  topics = lda_model.components_\n",
    "\n",
    "  # the actual word names\n",
    "  feature_names = vectorizer.get_feature_names_out()\n",
    "\n",
    "  # Print the top words for each topic\n",
    "  for topic_idx, topic in enumerate(topics):\n",
    "      print(f\"Topic #{topic_idx + 1}:\")\n",
    "      top_words_idx = topic.argsort()[:-n_top_words - 1:-1]  # Get indices of top words\n",
    "      top_words = [feature_names[i] for i in top_words_idx]\n",
    "      print(\"Top words:\", top_words)\n",
    "      print()"
   ]
  },
  {
   "cell_type": "code",
   "execution_count": 12,
   "metadata": {},
   "outputs": [
    {
     "name": "stdout",
     "output_type": "stream",
     "text": [
      "Topic #1:\n",
      "Top words: ['the', 'to', 'of', 'and', 'is', 'in', 'that', 'it', 'you', 'for']\n",
      "\n",
      "Topic #2:\n",
      "Top words: ['shameful', 'intellect', 'chastity', 'n3jxp', 'skepticism', 'surrender', 'gordon', 'banks', 'soon', 'lyme']\n",
      "\n",
      "Topic #3:\n",
      "Top words: ['ink', 'xdm', 'deskjet', 'tektronix', 'lcd', 'bj200', 'hello', 'ultrix', 'pcx', 'zeos']\n",
      "\n",
      "Topic #4:\n",
      "Top words: ['scsi1', '205', 'adl', 'scsi2', 'subscribe', 'intergraph', '35894', 'uunetingrb30catbytedtmedin', '7303169', 'medin']\n",
      "\n",
      "Topic #5:\n",
      "Top words: ['ditto', 'wtte', 'ites', 'comics', 'deluxe', 'pmp', 'adcom', 'sy', 'art', 'mercurys']\n",
      "\n",
      "Topic #6:\n",
      "Top words: ['rangers', 'alomar', 'pts', 'captain', 'flyers', 'baerga', 'period', 'champs', 'hartford', 'keller']\n",
      "\n",
      "Topic #7:\n",
      "Top words: ['retarded', 'motorcycling', 'gm', 'inguiry', 'renderman', 'cdt', 'boxscores', 'sipps', 'cdi', 'hernia']\n",
      "\n"
     ]
    }
   ],
   "source": [
    "display_top_words(lda_prepro, tfid_prepro)"
   ]
  },
  {
   "cell_type": "code",
   "execution_count": 11,
   "metadata": {},
   "outputs": [
    {
     "name": "stdout",
     "output_type": "stream",
     "text": [
      "Topic #1:\n",
      "Top words: ['thanks', 'windows', 'card', 'drive', 'anyone', 'use', 'please', 'email', 'file', 'know']\n",
      "\n",
      "Topic #2:\n",
      "Top words: ['armenian', 'turkish', 'armenians', 'turks', 'armenia', 'lebanese', 'genocide', 'serdar', 'turkey', 'argic']\n",
      "\n",
      "Topic #3:\n",
      "Top words: ['shaftdrive', 'wheelie', 'retarded', 'wireframe', 'ampere', 'ohmite', 'unload', 'tom', 'bulb', 'tenants']\n",
      "\n",
      "Topic #4:\n",
      "Top words: ['leafs', 'rangers', 'game', 'detroit', 'season', 'hawks', 'scsi2', 'islanders', 'games', 'chicago']\n",
      "\n",
      "Topic #5:\n",
      "Top words: ['key', 'encryption', 'chip', 'clipper', 'keys', 'nsa', 'escrow', 'phone', 'algorithm', 'secure']\n",
      "\n",
      "Topic #6:\n",
      "Top words: ['would', 'one', 'dont', 'people', 'like', 'think', 'know', 'get', 'good', 'time']\n",
      "\n",
      "Topic #7:\n",
      "Top words: ['maxaxaxaxaxaxaxaxaxaxaxaxaxaxax', 'irq', 'test', 'mpeg', 'chop', 'com1', 'hillary', 'liturgy', 'gm', '16550']\n",
      "\n"
     ]
    }
   ],
   "source": [
    "display_top_words(lda_nostop,tfid_nostop)"
   ]
  },
  {
   "cell_type": "markdown",
   "metadata": {},
   "source": [
    "Broadly, these look like they might makes sense, especially in the stopwords removed version. It's hard to draw any real conclusions without seeing if the categories actually are matching up. Topic 4 in the second output would make a lot of sense as 'rec',  for example. "
   ]
  },
  {
   "cell_type": "markdown",
   "metadata": {},
   "source": [
    "**Checking the output**<p>\n",
    "First we need to get the predictions for each item and put them back onto the dataframes."
   ]
  },
  {
   "cell_type": "code",
   "execution_count": 13,
   "metadata": {},
   "outputs": [],
   "source": [
    "# getting the predictions\n",
    "# train set\n",
    "topic_train_pred_prepro = lda_train_prepro.argmax(axis=1)\n",
    "topic_train_pred_nostop = lda_train_nostop.argmax(axis=1)\n",
    "# test set\n",
    "topic_test_pred_prepro = lda_test_prepro.argmax(axis=1)\n",
    "topic_test_pred_nostop = lda_test_nostop.argmax(axis=1)"
   ]
  },
  {
   "cell_type": "code",
   "execution_count": 14,
   "metadata": {},
   "outputs": [],
   "source": [
    "# attach to dataframes\n",
    "# train set\n",
    "ds_train['pred_prepro'] = topic_train_pred_prepro\n",
    "ds_train['pred_nostop'] = topic_train_pred_nostop\n",
    "# test set\n",
    "ds_test['pred_prepro'] = topic_test_pred_prepro\n",
    "ds_test['pred_nostop'] = topic_test_pred_nostop"
   ]
  },
  {
   "cell_type": "code",
   "execution_count": 15,
   "metadata": {},
   "outputs": [
    {
     "data": {
      "text/html": [
       "<div>\n",
       "<style scoped>\n",
       "    .dataframe tbody tr th:only-of-type {\n",
       "        vertical-align: middle;\n",
       "    }\n",
       "\n",
       "    .dataframe tbody tr th {\n",
       "        vertical-align: top;\n",
       "    }\n",
       "\n",
       "    .dataframe thead th {\n",
       "        text-align: right;\n",
       "    }\n",
       "</style>\n",
       "<table border=\"1\" class=\"dataframe\">\n",
       "  <thead>\n",
       "    <tr style=\"text-align: right;\">\n",
       "      <th></th>\n",
       "      <th>text</th>\n",
       "      <th>label</th>\n",
       "      <th>label_text</th>\n",
       "      <th>simple_topic</th>\n",
       "      <th>preprocess</th>\n",
       "      <th>no_stopword</th>\n",
       "      <th>pred_prepro</th>\n",
       "      <th>pred_nostop</th>\n",
       "    </tr>\n",
       "  </thead>\n",
       "  <tbody>\n",
       "    <tr>\n",
       "      <th>0</th>\n",
       "      <td>I was wondering if anyone out there could enli...</td>\n",
       "      <td>7</td>\n",
       "      <td>rec.autos</td>\n",
       "      <td>3</td>\n",
       "      <td>i was wondering if anyone out there could enli...</td>\n",
       "      <td>wondering anyone could enlighten car saw day 2...</td>\n",
       "      <td>0</td>\n",
       "      <td>5</td>\n",
       "    </tr>\n",
       "    <tr>\n",
       "      <th>1</th>\n",
       "      <td>A fair number of brave souls who upgraded thei...</td>\n",
       "      <td>4</td>\n",
       "      <td>comp.sys.mac.hardware</td>\n",
       "      <td>1</td>\n",
       "      <td>a fair number of brave souls who upgraded thei...</td>\n",
       "      <td>fair number brave souls upgraded si clock osci...</td>\n",
       "      <td>0</td>\n",
       "      <td>5</td>\n",
       "    </tr>\n",
       "  </tbody>\n",
       "</table>\n",
       "</div>"
      ],
      "text/plain": [
       "                                                text  label  \\\n",
       "0  I was wondering if anyone out there could enli...      7   \n",
       "1  A fair number of brave souls who upgraded thei...      4   \n",
       "\n",
       "              label_text  simple_topic  \\\n",
       "0              rec.autos             3   \n",
       "1  comp.sys.mac.hardware             1   \n",
       "\n",
       "                                          preprocess  \\\n",
       "0  i was wondering if anyone out there could enli...   \n",
       "1  a fair number of brave souls who upgraded thei...   \n",
       "\n",
       "                                         no_stopword  pred_prepro  pred_nostop  \n",
       "0  wondering anyone could enlighten car saw day 2...            0            5  \n",
       "1  fair number brave souls upgraded si clock osci...            0            5  "
      ]
     },
     "metadata": {},
     "output_type": "display_data"
    },
    {
     "data": {
      "text/html": [
       "<div>\n",
       "<style scoped>\n",
       "    .dataframe tbody tr th:only-of-type {\n",
       "        vertical-align: middle;\n",
       "    }\n",
       "\n",
       "    .dataframe tbody tr th {\n",
       "        vertical-align: top;\n",
       "    }\n",
       "\n",
       "    .dataframe thead th {\n",
       "        text-align: right;\n",
       "    }\n",
       "</style>\n",
       "<table border=\"1\" class=\"dataframe\">\n",
       "  <thead>\n",
       "    <tr style=\"text-align: right;\">\n",
       "      <th></th>\n",
       "      <th>text</th>\n",
       "      <th>label</th>\n",
       "      <th>label_text</th>\n",
       "      <th>simple_topic</th>\n",
       "      <th>preprocess</th>\n",
       "      <th>no_stopword</th>\n",
       "      <th>pred_prepro</th>\n",
       "      <th>pred_nostop</th>\n",
       "    </tr>\n",
       "  </thead>\n",
       "  <tbody>\n",
       "    <tr>\n",
       "      <th>0</th>\n",
       "      <td>I am a little confused on all of the models of...</td>\n",
       "      <td>7</td>\n",
       "      <td>rec.autos</td>\n",
       "      <td>3</td>\n",
       "      <td>i am a little confused on all of the models of...</td>\n",
       "      <td>little confused models 8889 bonnevilles heard ...</td>\n",
       "      <td>0</td>\n",
       "      <td>5</td>\n",
       "    </tr>\n",
       "    <tr>\n",
       "      <th>1</th>\n",
       "      <td>I'm not familiar at all with the format of the...</td>\n",
       "      <td>5</td>\n",
       "      <td>comp.windows.x</td>\n",
       "      <td>1</td>\n",
       "      <td>im not familiar at all with the format of thes...</td>\n",
       "      <td>im familiar format xface thingies seeing folks...</td>\n",
       "      <td>0</td>\n",
       "      <td>0</td>\n",
       "    </tr>\n",
       "  </tbody>\n",
       "</table>\n",
       "</div>"
      ],
      "text/plain": [
       "                                                text  label      label_text  \\\n",
       "0  I am a little confused on all of the models of...      7       rec.autos   \n",
       "1  I'm not familiar at all with the format of the...      5  comp.windows.x   \n",
       "\n",
       "   simple_topic                                         preprocess  \\\n",
       "0             3  i am a little confused on all of the models of...   \n",
       "1             1  im not familiar at all with the format of thes...   \n",
       "\n",
       "                                         no_stopword  pred_prepro  pred_nostop  \n",
       "0  little confused models 8889 bonnevilles heard ...            0            5  \n",
       "1  im familiar format xface thingies seeing folks...            0            0  "
      ]
     },
     "metadata": {},
     "output_type": "display_data"
    }
   ],
   "source": [
    "display(ds_train.head(2))\n",
    "display(ds_test.head(2))"
   ]
  },
  {
   "cell_type": "markdown",
   "metadata": {},
   "source": [
    "And then I can check the accuracy:"
   ]
  },
  {
   "cell_type": "code",
   "execution_count": 16,
   "metadata": {},
   "outputs": [],
   "source": [
    "from sklearn.metrics import accuracy_score"
   ]
  },
  {
   "cell_type": "code",
   "execution_count": 17,
   "metadata": {},
   "outputs": [],
   "source": [
    "def check_accuracy(true,predicted):\n",
    "  accuracy = accuracy_score(true,predicted)\n",
    "  return accuracy"
   ]
  },
  {
   "cell_type": "code",
   "execution_count": 18,
   "metadata": {},
   "outputs": [],
   "source": [
    "acc_train_prepro = check_accuracy(ds_train['simple_topic'],ds_train['pred_prepro'])\n",
    "acc_train_nostop = check_accuracy(ds_train['simple_topic'],ds_train['pred_nostop'])\n",
    "acc_test_prepro = check_accuracy(ds_test['simple_topic'],ds_test['pred_prepro'])\n",
    "acc_test_nostop = check_accuracy(ds_test['simple_topic'],ds_test['pred_nostop'])"
   ]
  },
  {
   "cell_type": "markdown",
   "metadata": {},
   "source": [
    "And also look at what categories this analysis actually predicted compared to what it was supposed to do."
   ]
  },
  {
   "cell_type": "code",
   "execution_count": 31,
   "metadata": {},
   "outputs": [],
   "source": [
    "import numpy as np\n",
    "import matplotlib.pyplot as plt"
   ]
  },
  {
   "cell_type": "code",
   "execution_count": null,
   "metadata": {},
   "outputs": [
    {
     "data": {
      "text/plain": [
       "([<matplotlib.axis.YTick at 0x17e05e82870>,\n",
       "  <matplotlib.axis.YTick at 0x17e05f22210>,\n",
       "  <matplotlib.axis.YTick at 0x17e0592a960>,\n",
       "  <matplotlib.axis.YTick at 0x17e05f5f9b0>,\n",
       "  <matplotlib.axis.YTick at 0x17e05f5fce0>],\n",
       " [Text(0, 0, '0'),\n",
       "  Text(0, 2000, '2000'),\n",
       "  Text(0, 4000, '4000'),\n",
       "  Text(0, 6000, '6000'),\n",
       "  Text(0, 8000, '8000')])"
      ]
     },
     "execution_count": 33,
     "metadata": {},
     "output_type": "execute_result"
    },
    {
     "data": {
      "image/png": "[encoded data removed]",
      "text/plain": [
       "<Figure size 1500x900 with 4 Axes>"
      ]
     },
     "metadata": {},
     "output_type": "display_data"
    }
   ],
   "source": [
    "plt.figure(figsize=(15,9))\n",
    "plt.subplot(2,2,1)\n",
    "plt.hist(ds_train['pred_prepro'],bins=7,color='red',alpha=0.6,label='assigned')\n",
    "plt.hist(ds_train['simple_topic'],bins=7,color='blue',alpha=0.6,label='actual')\n",
    "plt.title('train predictions, kept stopwords',fontsize=9)\n",
    "plt.xticks([])\n",
    "plt.yticks(np.arange(0,13000,2000))\n",
    "plt.legend()\n",
    "\n",
    "plt.subplot(2,2,2)\n",
    "plt.hist(ds_test['pred_prepro'],bins=7,color='red',alpha=0.6,label='assigned')\n",
    "plt.hist(ds_test['simple_topic'],bins=7,color='blue',alpha=0.6)\n",
    "plt.title('test predictions, kept stopwords',fontsize=9)\n",
    "plt.xticks([])\n",
    "plt.yticks(np.arange(0,13000,2000))\n",
    "\n",
    "plt.subplot(2,2,3)\n",
    "plt.hist(ds_train['pred_nostop'],bins=7,color='red',alpha=0.6,label='assigned')\n",
    "plt.hist(ds_train['simple_topic'],bins=7,color='blue',alpha=0.6,label='actual')\n",
    "plt.title('train predictions, dropped stopwords',fontsize=9)\n",
    "plt.xticks([])\n",
    "plt.yticks(np.arange(0,8500,2000))\n",
    "\n",
    "plt.subplot(2,2,4)\n",
    "plt.hist(ds_test['pred_nostop'],bins=7,color='red',alpha=0.6,label='assigned')\n",
    "plt.hist(ds_test['simple_topic'],bins=7,color='blue',alpha=0.6)\n",
    "plt.title('test predictions, dropped stopwords',fontsize=9)\n",
    "plt.xticks([])\n",
    "plt.yticks(np.arange(0,8500,2000))\n",
    "\n",
    "plt.savefig('charts/lda_output.png',bbox_inches='tight')"
   ]
  },
  {
   "cell_type": "code",
   "execution_count": 23,
   "metadata": {},
   "outputs": [
    {
     "name": "stdout",
     "output_type": "stream",
     "text": [
      "Accuracy without dropping stopwords:\n",
      " Train Set: 0.043839490896234755 \n",
      " Test Set: 0.042352628783855546\n",
      "\n",
      "Accuracy with dropping stopwords:\n",
      " Train Set: 0.06708502739968181 \n",
      " Test Set: 0.058682952734997344\n"
     ]
    }
   ],
   "source": [
    "print('Accuracy without dropping stopwords:\\n Train Set:',acc_train_prepro,'\\n Test Set:',acc_test_prepro)\n",
    "print('\\nAccuracy with dropping stopwords:\\n Train Set:',acc_train_nostop,'\\n Test Set:',acc_test_nostop)"
   ]
  },
  {
   "cell_type": "markdown",
   "metadata": {},
   "source": [
    "The accuracy is higher when the stopwords are dropped, but it is still significantly worse than random chance, which is 1/7, or 0.14. So this simple model does not do a good job of evaluating topics, unless something went very wrong in my setup, which is entirely possible. Now it's time to move on to a more complex model that will hopefully do a much better job of analyzing the data. "
   ]
  }
 ],
 "metadata": {
  "kernelspec": {
   "display_name": "base",
   "language": "python",
   "name": "python3"
  },
  "language_info": {
   "codemirror_mode": {
    "name": "ipython",
    "version": 3
   },
   "file_extension": ".py",
   "mimetype": "text/x-python",
   "name": "python",
   "nbconvert_exporter": "python",
   "pygments_lexer": "ipython3",
   "version": "3.12.3"
  },
  "orig_nbformat": 4
 },
 "nbformat": 4,
 "nbformat_minor": 2
}
